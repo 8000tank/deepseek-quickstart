{
 "cells": [
  {
   "cell_type": "markdown",
   "id": "20549885",
   "metadata": {},
   "source": [
    "# 使用 Milvus 和 DeepSeek 构建 RAG\n",
    "\n",
    "DeepSeek 帮助开发者使用高性能语言模型构建和扩展 AI 应用。它提供高效的推理、灵活的 API 以及先进的专家混合 (MoE) 架构，用于强大的推理和检索任务。\n",
    "\n",
    "在本教程中，我们将展示如何使用 Milvus 和 DeepSeek 构建一个检索增强生成 (RAG) 管道。"
   ]
  },
  {
   "cell_type": "markdown",
   "id": "7394c701",
   "metadata": {},
   "source": [
    "## 准备工作"
   ]
  },
  {
   "cell_type": "markdown",
   "id": "89103a1e",
   "metadata": {},
   "source": [
    "### 依赖与环境"
   ]
  },
  {
   "cell_type": "code",
   "execution_count": null,
   "id": "9c18d7b4",
   "metadata": {},
   "outputs": [],
   "source": [
    "!pip install \"pymilvus[model]==2.5.10\" openai==1.82.0 requests==2.32.3 tqdm==4.67.1 torch==2.7.0"
   ]
  },
  {
   "cell_type": "markdown",
   "id": "1b3c0999-d670-41a9-afbd-d8a020fe1631",
   "metadata": {},
   "source": [
    "---"
   ]
  },
  {
   "cell_type": "code",
   "execution_count": 2,
   "id": "375ad823",
   "metadata": {},
   "outputs": [],
   "source": [
    "import os\n",
    "\n",
    "# 从环境变量获取 DeepSeek API Key\n",
    "api_key = os.getenv(\"DEEPSEEK_API_KEY\")"
   ]
  },
  {
   "cell_type": "markdown",
   "id": "db44bb26",
   "metadata": {},
   "source": [
    "### 准备数据"
   ]
  },
  {
   "cell_type": "markdown",
   "id": "25f92a95",
   "metadata": {},
   "source": [
    "我们使用 Milvus 文档 2.4.x 中的 FAQ 页面作为我们 RAG 中的私有知识库，这是一个简单 RAG 管道的良好数据源。"
   ]
  },
  {
   "cell_type": "markdown",
   "id": "a1a8b9e2",
   "metadata": {},
   "source": [
    "下载 zip 文件并将文档解压到 `milvus_docs` 文件夹。\n",
    "\n",
    "**建议在命令行执行下面命令**"
   ]
  },
  {
   "cell_type": "code",
   "execution_count": 3,
   "id": "a81fa031",
   "metadata": {},
   "outputs": [],
   "source": [
    "#!wget https://github.com/milvus-io/milvus-docs/releases/download/v2.4.6-preview/milvus_docs_2.4.x_en.zip\n",
    "#!unzip -q milvus_docs_2.4.x_en.zip -d milvus_docs"
   ]
  },
  {
   "cell_type": "markdown",
   "id": "d1198466",
   "metadata": {},
   "source": [
    "我们从 `milvus_docs/en/faq` 文件夹加载所有 markdown 文件。对于每个文档，我们简单地使用 \"# \" 来分割文件中的内容，这样可以大致分离出 markdown 文件中每个主要部分的内容。"
   ]
  },
  {
   "cell_type": "code",
   "execution_count": 4,
   "id": "c9035a5f",
   "metadata": {},
   "outputs": [],
   "source": [
    "from glob import glob\n",
    "\n",
    "text_lines = []\n",
    "\n",
    "for file_path in glob(\"milvus_docs/en/faq/*.md\", recursive=True):\n",
    "    with open(file_path, \"r\") as file:\n",
    "        file_text = file.read()\n",
    "\n",
    "    text_lines += file_text.split(\"# \")"
   ]
  },
  {
   "cell_type": "code",
   "execution_count": 4,
   "id": "01b73e74-ee7d-4daf-b7db-1c7a10bfc0bf",
   "metadata": {},
   "outputs": [
    {
     "data": {
      "text/plain": [
       "72"
      ]
     },
     "execution_count": 4,
     "metadata": {},
     "output_type": "execute_result"
    }
   ],
   "source": [
    "len(text_lines)"
   ]
  },
  {
   "cell_type": "markdown",
   "id": "4cc2a0b8",
   "metadata": {},
   "source": [
    "### 准备 LLM 和 Embedding 模型"
   ]
  },
  {
   "cell_type": "markdown",
   "id": "19eaff7a",
   "metadata": {},
   "source": [
    "DeepSeek 支持 OpenAI 风格的 API，您可以使用相同的 API 进行微小调整来调用 LLM。"
   ]
  },
  {
   "cell_type": "code",
   "execution_count": 5,
   "id": "b994eb47",
   "metadata": {},
   "outputs": [],
   "source": [
    "from openai import OpenAI\n",
    "\n",
    "deepseek_client = OpenAI(\n",
    "    api_key=api_key,\n",
    "    base_url=\"https://api.deepseek.com/v1\",  # DeepSeek API 的基地址\n",
    ")"
   ]
  },
  {
   "cell_type": "markdown",
   "id": "1cc5a5e2",
   "metadata": {},
   "source": [
    "定义一个 embedding 模型，使用 `milvus_model` 来生成文本嵌入。我们以 `DefaultEmbeddingFunction` 模型为例，这是一个预训练的轻量级嵌入模型。"
   ]
  },
  {
   "cell_type": "code",
   "execution_count": null,
   "id": "3a94242a",
   "metadata": {},
   "outputs": [],
   "source": [
    "# from pymilvus import model as milvus_model\n",
    "\n",
    "# embedding_model = milvus_model.DefaultEmbeddingFunction()\n",
    "\n",
    "from pymilvus import model as milvus_model\n",
    "\n",
    "# OpenAI国内代理 https://api.apiyi.com/token \n",
    "embedding_model = milvus_model.dense.OpenAIEmbeddingFunction(\n",
    "    model_name='text-embedding-3-large', # Specify the model name\n",
    "    api_key='sk-XXX', # Provide your OpenAI API key\n",
    "    base_url='https://api.apiyi.com/v1',\n",
    "    dimensions=512\n",
    ")"
   ]
  },
  {
   "cell_type": "markdown",
   "id": "93fb1696",
   "metadata": {},
   "source": [
    "生成一个测试嵌入并打印其维度和前几个元素。"
   ]
  },
  {
   "cell_type": "code",
   "execution_count": 14,
   "id": "88a27567",
   "metadata": {},
   "outputs": [
    {
     "name": "stdout",
     "output_type": "stream",
     "text": [
      "512\n",
      "[-0.02814663  0.00428726 -0.01852599  0.08190062 -0.03156214 -0.05275258\n",
      " -0.04885425  0.12481797 -0.0208328   0.03966279]\n"
     ]
    }
   ],
   "source": [
    "test_embedding = embedding_model.encode_queries([\"This is a test\"])[0]\n",
    "embedding_dim = len(test_embedding)\n",
    "print(embedding_dim)\n",
    "print(test_embedding[:10])"
   ]
  },
  {
   "cell_type": "code",
   "execution_count": 15,
   "id": "f7683f3a-d9e4-4c8e-9a66-c341911bef6b",
   "metadata": {},
   "outputs": [
    {
     "name": "stdout",
     "output_type": "stream",
     "text": [
      "[-0.00578664  0.02242682 -0.01892621  0.12811586 -0.01249751 -0.07321841\n",
      " -0.00281971  0.08617394 -0.04377401  0.03073668]\n"
     ]
    }
   ],
   "source": [
    "test_embedding_0 = embedding_model.encode_queries([\"That is a test\"])[0]\n",
    "print(test_embedding_0[:10])"
   ]
  },
  {
   "cell_type": "markdown",
   "id": "5a778887",
   "metadata": {},
   "source": [
    "## 将数据加载到 Milvus"
   ]
  },
  {
   "cell_type": "markdown",
   "id": "02b23a24",
   "metadata": {},
   "source": [
    "### 创建 Collection"
   ]
  },
  {
   "cell_type": "code",
   "execution_count": 16,
   "id": "95e84b8c",
   "metadata": {},
   "outputs": [
    {
     "name": "stderr",
     "output_type": "stream",
     "text": [
      "/root/anaconda3/envs/deepseek/lib/python3.13/site-packages/milvus_lite/__init__.py:15: UserWarning: pkg_resources is deprecated as an API. See https://setuptools.pypa.io/en/latest/pkg_resources.html. The pkg_resources package is slated for removal as early as 2025-11-30. Refrain from using this package or pin to Setuptools<81.\n",
      "  from pkg_resources import DistributionNotFound, get_distribution\n"
     ]
    }
   ],
   "source": [
    "from pymilvus import MilvusClient\n",
    "\n",
    "milvus_client = MilvusClient(uri=\"./milvus_demo.db\")\n",
    "\n",
    "collection_name = \"my_rag_collection\""
   ]
  },
  {
   "cell_type": "markdown",
   "id": "68648561",
   "metadata": {},
   "source": [
    "关于 `MilvusClient` 的参数：\n",
    "\n",
    "*   将 `uri` 设置为本地文件，例如 `./milvus.db`，是最方便的方法，因为它会自动利用 Milvus Lite 将所有数据存储在此文件中。\n",
    "*   如果您有大规模数据，可以在 Docker 或 Kubernetes 上设置性能更高的 Milvus 服务器。在此设置中，请使用服务器 URI，例如 `http://localhost:19530`，作为您的 `uri`。\n",
    "*   如果您想使用 Zilliz Cloud（Milvus 的完全托管云服务），请调整 `uri` 和 `token`，它们对应 Zilliz Cloud 中的 Public Endpoint 和 Api key。"
   ]
  },
  {
   "cell_type": "markdown",
   "id": "5ce1bf3e",
   "metadata": {},
   "source": [
    "检查 collection 是否已存在，如果存在则删除它。"
   ]
  },
  {
   "cell_type": "code",
   "execution_count": 17,
   "id": "aee85c08",
   "metadata": {},
   "outputs": [],
   "source": [
    "if milvus_client.has_collection(collection_name):\n",
    "    milvus_client.drop_collection(collection_name)"
   ]
  },
  {
   "cell_type": "markdown",
   "id": "73eb379f",
   "metadata": {},
   "source": [
    "创建一个具有指定参数的新 collection。\n",
    "\n",
    "如果我们不指定任何字段信息，Milvus 将自动创建一个默认的 `id` 字段作为主键，以及一个 `vector` 字段来存储向量数据。一个保留的 JSON 字段用于存储非 schema 定义的字段及其值。\n",
    "\n",
    "`metric_type` (距离度量类型):\n",
    "     作用：定义如何计算向量之间的相似程度。\n",
    "     例如：`IP` (内积) - 值越大通常越相似；`L2` (欧氏距离) - 值越小越相似；`COSINE` (余弦相似度) - 通常转换为距离，值越小越相似。\n",
    "     选择依据：根据你的嵌入模型的特性和期望的相似性定义来选择。\n",
    "\n",
    " `consistency_level` (一致性级别):\n",
    "     作用：定义数据写入后，读取操作能多快看到这些新数据。\n",
    "     例如：\n",
    "         `Strong` (强一致性): 总是读到最新数据，可能稍慢。\n",
    "         `Bounded` (有界过期): 可能读到几秒内旧数据，性能较好 (默认)。\n",
    "         `Session` (会话一致性): 自己写入的自己能立刻读到。\n",
    "         `Eventually` (最终一致性): 最终会读到新数据，但没时间保证，性能最好。\n",
    "     选择依据：在数据实时性要求和系统性能之间做权衡。\n",
    "\n",
    "简单来说：\n",
    " `metric_type`：怎么算相似。\n",
    " `consistency_level`：新数据多久能被读到。"
   ]
  },
  {
   "cell_type": "code",
   "execution_count": 19,
   "id": "bd0b2df8",
   "metadata": {},
   "outputs": [],
   "source": [
    "milvus_client.create_collection(\n",
    "    collection_name=collection_name,\n",
    "    dimension=embedding_dim,\n",
    "    metric_type=\"IP\",  # 内积距离\n",
    "    consistency_level=\"Strong\",  # 支持的值为 (`\"Strong\"`, `\"Session\"`, `\"Bounded\"`, `\"Eventually\"`)。更多详情请参见 https://milvus.io/docs/consistency.md#Consistency-Level。\n",
    ")"
   ]
  },
  {
   "cell_type": "markdown",
   "id": "9c15bafb",
   "metadata": {},
   "source": [
    "### 插入数据"
   ]
  },
  {
   "cell_type": "markdown",
   "id": "171d3b35",
   "metadata": {},
   "source": [
    "遍历文本行，创建嵌入，然后将数据插入 Milvus。\n",
    "\n",
    "这里有一个新字段 `text`，它是在 collection schema 中未定义的字段。它将自动添加到保留的 JSON 动态字段中，该字段在高级别上可以被视为普通字段。"
   ]
  },
  {
   "cell_type": "code",
   "execution_count": 42,
   "id": "ad077094",
   "metadata": {},
   "outputs": [
    {
     "name": "stderr",
     "output_type": "stream",
     "text": [
      "Creating embeddings: 100%|██████████| 72/72 [00:00<00:00, 159277.37it/s]\n"
     ]
    },
    {
     "data": {
      "text/plain": [
       "{'insert_count': 72, 'ids': [0, 1, 2, 3, 4, 5, 6, 7, 8, 9, 10, 11, 12, 13, 14, 15, 16, 17, 18, 19, 20, 21, 22, 23, 24, 25, 26, 27, 28, 29, 30, 31, 32, 33, 34, 35, 36, 37, 38, 39, 40, 41, 42, 43, 44, 45, 46, 47, 48, 49, 50, 51, 52, 53, 54, 55, 56, 57, 58, 59, 60, 61, 62, 63, 64, 65, 66, 67, 68, 69, 70, 71], 'cost': 0}"
      ]
     },
     "execution_count": 42,
     "metadata": {},
     "output_type": "execute_result"
    }
   ],
   "source": [
    "from tqdm import tqdm\n",
    "\n",
    "data = []\n",
    "\n",
    "doc_embeddings = embedding_model.encode_documents(text_lines)\n",
    "\n",
    "for i, line in enumerate(tqdm(text_lines, desc=\"Creating embeddings\")):\n",
    "    data.append({\"id\": i, \"vector\": doc_embeddings[i], \"text\": line})\n",
    "\n",
    "milvus_client.insert(collection_name=collection_name, data=data)"
   ]
  },
  {
   "cell_type": "markdown",
   "id": "bd971f6b",
   "metadata": {},
   "source": [
    "## 构建 RAG"
   ]
  },
  {
   "cell_type": "markdown",
   "id": "534dc076",
   "metadata": {},
   "source": [
    "### 检索查询数据"
   ]
  },
  {
   "cell_type": "markdown",
   "id": "5a6fd7e7",
   "metadata": {},
   "source": [
    "我们指定一个关于 Milvus 的常见问题。"
   ]
  },
  {
   "cell_type": "code",
   "execution_count": 31,
   "id": "6e2f5c6a",
   "metadata": {},
   "outputs": [],
   "source": [
    "question = \"why we should use milvus?\""
   ]
  },
  {
   "cell_type": "markdown",
   "id": "52401a38",
   "metadata": {},
   "source": [
    "在 collection 中搜索该问题，并检索语义上最匹配的前3个结果。"
   ]
  },
  {
   "cell_type": "code",
   "execution_count": 32,
   "id": "0dd4cbac",
   "metadata": {},
   "outputs": [],
   "source": [
    "search_res = milvus_client.search(\n",
    "    collection_name=collection_name,\n",
    "    data=embedding_model.encode_queries(\n",
    "        [question]\n",
    "    ),  # 将问题转换为嵌入向量\n",
    "    limit=3,  # 返回前3个结果\n",
    "    search_params={\"metric_type\": \"IP\", \"params\": {}},  # 内积距离\n",
    "    output_fields=[\"text\"],  # 返回 text 字段\n",
    ")"
   ]
  },
  {
   "cell_type": "markdown",
   "id": "ffcce135",
   "metadata": {},
   "source": [
    "让我们看一下查询的搜索结果"
   ]
  },
  {
   "cell_type": "code",
   "execution_count": 33,
   "id": "6a7f6eb3",
   "metadata": {},
   "outputs": [
    {
     "name": "stdout",
     "output_type": "stream",
     "text": [
      "[\n",
      "    [\n",
      "        \"Does Milvus support message engines other than Pulsar?\\n\\nYes. Kafka is supported in Milvus 2.1.0.\\n\\n###\",\n",
      "        0.5013245344161987\n",
      "    ],\n",
      "    [\n",
      "        \"How does Milvus handle vector data types and precision?\\n\\nMilvus supports Binary, Float32, Float16, and BFloat16 vector types.\\n\\n- Binary vectors: Store binary data as sequences of 0s and 1s, used in image processing and information retrieval.\\n- Float32 vectors: Default storage with a precision of about 7 decimal digits. Even Float64 values are stored with Float32 precision, leading to potential precision loss upon retrieval.\\n- Float16 and BFloat16 vectors: Offer reduced precision and memory usage. Float16 is suitable for applications with limited bandwidth and storage, while BFloat16 balances range and efficiency, commonly used in deep learning to reduce computational requirements without significantly impacting accuracy.\\n\\n###\",\n",
      "        0.4910174012184143\n",
      "    ],\n",
      "    [\n",
      "        \"What data types does Milvus support on the primary key field?\\n\\nIn current release, Milvus supports both INT64 and string.\\n\\n###\",\n",
      "        0.47190219163894653\n",
      "    ]\n",
      "]\n"
     ]
    }
   ],
   "source": [
    "import json\n",
    "\n",
    "retrieved_lines_with_distances = [\n",
    "    (res[\"entity\"][\"text\"], res[\"distance\"]) for res in search_res[0]\n",
    "]\n",
    "print(json.dumps(retrieved_lines_with_distances, indent=4))"
   ]
  },
  {
   "cell_type": "markdown",
   "id": "ccd4c186",
   "metadata": {},
   "source": [
    "### 使用 LLM 获取 RAG 响应"
   ]
  },
  {
   "cell_type": "markdown",
   "id": "4cd1ae3a",
   "metadata": {},
   "source": [
    "将检索到的文档转换为字符串格式。"
   ]
  },
  {
   "cell_type": "code",
   "execution_count": 34,
   "id": "0676448f",
   "metadata": {},
   "outputs": [],
   "source": [
    "context = \"\\n\".join(\n",
    "    [line_with_distance[0] for line_with_distance in retrieved_lines_with_distances]\n",
    ")"
   ]
  },
  {
   "cell_type": "code",
   "execution_count": 35,
   "id": "107df42a-b3f7-48a8-b66b-fc82fe3ec174",
   "metadata": {},
   "outputs": [
    {
     "data": {
      "text/plain": [
       "'Does Milvus support message engines other than Pulsar?\\n\\nYes. Kafka is supported in Milvus 2.1.0.\\n\\n###\\nHow does Milvus handle vector data types and precision?\\n\\nMilvus supports Binary, Float32, Float16, and BFloat16 vector types.\\n\\n- Binary vectors: Store binary data as sequences of 0s and 1s, used in image processing and information retrieval.\\n- Float32 vectors: Default storage with a precision of about 7 decimal digits. Even Float64 values are stored with Float32 precision, leading to potential precision loss upon retrieval.\\n- Float16 and BFloat16 vectors: Offer reduced precision and memory usage. Float16 is suitable for applications with limited bandwidth and storage, while BFloat16 balances range and efficiency, commonly used in deep learning to reduce computational requirements without significantly impacting accuracy.\\n\\n###\\nWhat data types does Milvus support on the primary key field?\\n\\nIn current release, Milvus supports both INT64 and string.\\n\\n###'"
      ]
     },
     "execution_count": 35,
     "metadata": {},
     "output_type": "execute_result"
    }
   ],
   "source": [
    "context"
   ]
  },
  {
   "cell_type": "code",
   "execution_count": 36,
   "id": "19998758-7f98-4cb8-8789-625fcfaad00e",
   "metadata": {},
   "outputs": [
    {
     "data": {
      "text/plain": [
       "'why we should use milvus?'"
      ]
     },
     "execution_count": 36,
     "metadata": {},
     "output_type": "execute_result"
    }
   ],
   "source": [
    "question"
   ]
  },
  {
   "cell_type": "markdown",
   "id": "7ad25756",
   "metadata": {},
   "source": [
    "为语言模型定义系统和用户提示。此提示是使用从 Milvus 检索到的文档组装而成的。"
   ]
  },
  {
   "cell_type": "code",
   "execution_count": 49,
   "id": "b655f6f3",
   "metadata": {},
   "outputs": [],
   "source": [
    "SYSTEM_PROMPT = \"\"\"\n",
    "Human: 你是一个 AI 助手。你能够从提供的上下文段落片段中找到问题的答案。\n",
    "\"\"\"\n",
    "USER_PROMPT = f\"\"\"\n",
    "请使用以下用 <context> 标签括起来的信息片段来回答用 <question> 标签括起来的问题。最后追加原始回答的中文翻译，并用 <translated>和</translated> 标签标注。\n",
    "<context>\n",
    "{context}\n",
    "</context>\n",
    "<question>\n",
    "{question}\n",
    "</question>\n",
    "<translated>\n",
    "</translated>\n",
    "\"\"\""
   ]
  },
  {
   "cell_type": "code",
   "execution_count": 40,
   "id": "97089c31-f85c-47a9-8498-78520513bc67",
   "metadata": {},
   "outputs": [
    {
     "data": {
      "text/plain": [
       "'\\n请使用以下用 <context> 标签括起来的信息片段来回答用 <question> 标签括起来的问题。最后追加原始回答的中文翻译，并用 <translated>和</translated> 标签标注。\\n<context>\\nDoes Milvus support message engines other than Pulsar?\\n\\nYes. Kafka is supported in Milvus 2.1.0.\\n\\n###\\nHow does Milvus handle vector data types and precision?\\n\\nMilvus supports Binary, Float32, Float16, and BFloat16 vector types.\\n\\n- Binary vectors: Store binary data as sequences of 0s and 1s, used in image processing and information retrieval.\\n- Float32 vectors: Default storage with a precision of about 7 decimal digits. Even Float64 values are stored with Float32 precision, leading to potential precision loss upon retrieval.\\n- Float16 and BFloat16 vectors: Offer reduced precision and memory usage. Float16 is suitable for applications with limited bandwidth and storage, while BFloat16 balances range and efficiency, commonly used in deep learning to reduce computational requirements without significantly impacting accuracy.\\n\\n###\\nWhat data types does Milvus support on the primary key field?\\n\\nIn current release, Milvus supports both INT64 and string.\\n\\n###\\n</context>\\n<question>\\nwhy we should use milvus?\\n</question>\\n<translated>\\n</translated>\\n'"
      ]
     },
     "execution_count": 40,
     "metadata": {},
     "output_type": "execute_result"
    }
   ],
   "source": [
    "USER_PROMPT"
   ]
  },
  {
   "cell_type": "markdown",
   "id": "184b457f",
   "metadata": {},
   "source": [
    "使用 DeepSeek 提供的 `deepseek-chat` 模型根据提示生成响应。"
   ]
  },
  {
   "cell_type": "code",
   "execution_count": 41,
   "id": "638a7561",
   "metadata": {},
   "outputs": [
    {
     "name": "stdout",
     "output_type": "stream",
     "text": [
      "Milvus is a powerful vector database that offers several advantages, making it a great choice for handling vector data:\n",
      "\n",
      "1. **Flexible Message Engine Support**: Milvus supports multiple message engines like Pulsar and Kafka (from version 2.1.0), providing flexibility in data streaming and processing.\n",
      "\n",
      "2. **Diverse Vector Data Type Support**: It accommodates various vector types, including Binary, Float32, Float16, and BFloat16, catering to different precision and memory requirements. This makes it suitable for applications like image processing, information retrieval, and deep learning.\n",
      "\n",
      "3. **Efficient Storage and Retrieval**: Milvus optimizes storage and retrieval, even handling Float64 values with Float32 precision (with potential precision loss) to balance performance and accuracy.\n",
      "\n",
      "4. **Primary Key Flexibility**: It supports both INT64 and string types for primary keys, offering versatility in data organization and indexing.\n",
      "\n",
      "5. **Scalability and Performance**: Milvus is designed for high-performance vector search, making it ideal for large-scale AI and machine learning applications where efficient similarity search is crucial.\n",
      "\n",
      "Overall, Milvus is a robust solution for managing and searching high-dimensional vector data efficiently.\n",
      "\n",
      "<translated>\n",
      "Milvus 是一个强大的向量数据库，具有以下优势，使其成为处理向量数据的理想选择：\n",
      "\n",
      "1. **灵活的消息引擎支持**：Milvus 支持多种消息引擎，如 Pulsar 和 Kafka（从 2.1.0 版本开始），为数据流处理提供了灵活性。\n",
      "\n",
      "2. **多样化的向量数据类型支持**：它支持多种向量类型，包括 Binary、Float32、Float16 和 BFloat16，满足不同精度和内存需求。这使得它适用于图像处理、信息检索和深度学习等应用场景。\n",
      "\n",
      "3. **高效的存储与检索**：Milvus 优化了存储和检索性能，甚至能以 Float32 精度处理 Float64 值（可能损失部分精度），以平衡性能和准确性。\n",
      "\n",
      "4. **主键灵活性**：支持 INT64 和字符串类型的主键，为数据组织和索引提供了多样性。\n",
      "\n",
      "5. **可扩展性与高性能**：Milvus 专为高性能向量搜索设计，非常适合需要高效相似性搜索的大规模人工智能和机器学习应用。\n",
      "\n",
      "总之，Milvus 是高效管理和搜索高维向量数据的强大解决方案。\n",
      "</translated>\n"
     ]
    }
   ],
   "source": [
    "response = deepseek_client.chat.completions.create(\n",
    "    model=\"deepseek-chat\",\n",
    "    messages=[\n",
    "        {\"role\": \"system\", \"content\": SYSTEM_PROMPT},\n",
    "        {\"role\": \"user\", \"content\": USER_PROMPT},\n",
    "    ],\n",
    ")\n",
    "print(response.choices[0].message.content)"
   ]
  },
  {
   "cell_type": "code",
   "execution_count": null,
   "id": "972ecded-f09f-45c9-9445-053d2b1ce6d7",
   "metadata": {},
   "outputs": [],
   "source": []
  },
  {
   "cell_type": "code",
   "execution_count": 3,
   "id": "785607e5",
   "metadata": {},
   "outputs": [
    {
     "name": "stdout",
     "output_type": "stream",
     "text": [
      "27\n",
      "--- Segment 1 ---\n",
      "## 中华人民共和国民法典\n",
      "\n",
      "### （二）物权编\n",
      "\n",
      "\n",
      "--------------------\n",
      "--- Segment 2 ---\n",
      "第一章 一般规定\n",
      "\n",
      "**第二百零四条** 为了明确物的归属，充分发挥物的效用，保护权利人的合法权益，维护社会经济秩序，制定本编。\n",
      "\n",
      "**第二百零五条** 本编调整因物的归属和利用产生的民事关系。\n",
      "\n",
      "**第二百零六条** 国家坚持和完善社会主义公有制为主体、多种所有制经济共同发展的基本经济制度。\n",
      "国家巩固和发展公有制经济，鼓励、支持和引导非公有制经济的发展。\n",
      "国家实行社会主义市场经济，保障一切市场主体的平等法律地位和发展权利。\n",
      "\n",
      "**第二百零七条** 国家、集体、私人的物权和其他权利人的物权受法律平等保护，任何组织或者个人不得侵犯。\n",
      "\n",
      "**第二百零八条** 不动产权利的设立、变更、转让和消灭，应当依照法律规定登记。动产物权的设立和转让，应当依照法律规定交付。\n",
      "\n",
      "**第二百零九条** 不动产物权的设立、变更、转让和消灭，经依法登记，发生效力；未经登记，不发生效力，但是法律另有规定的除外。\n",
      "依法属于国家所有的自然资源，所有权可以不登记。\n",
      "\n",
      "**第二百一十条** 不动产登记，由不动产所在地的登记机构办理。\n",
      "国家对不动产实行统一登记制度。统一登记的范围、登记机构和登记办法，由法律、行政法规规定。\n",
      "\n",
      "**第二百一十一条** 当事人申请登记，应当根据不同登记事项提供材料。\n",
      "申请登记材料以及登记事项相关信息，可以公开查询。\n",
      "\n",
      "**第二百一十二条** 登记机构应当履行下列职责：\n",
      "（一）审查申请人提供的材料；\n",
      "（二）询问申请人；\n",
      "（三）如实、及时登记；\n",
      "（四）法律、行政法规规定的其他职责。\n",
      "申请登记的不动产存在尚未解决的权属争议的，登记机构应当不予登记，并书面告知申请人。\n",
      "\n",
      "**第二百一十三条** 登记机构不得有下列行为：\n",
      "（一）要求对不动产进行评估；\n",
      "（二）以不动产登记为条件收取其他费用；\n",
      "（三）超出登记职责范围的其他行为。\n",
      "\n",
      "**第二百一十四条** 不动产物权的设立、变更、转让和消灭，依照法律规定应当登记的，自记载于不动产登记簿时发生效力。\n",
      "\n",
      "**第二百一十五条** 不动产登记簿由登记机构管理。\n",
      "不动产登记簿应当采用纸质形式或者电子形式。\n",
      "不动产登记簿采用电子形式的，应当备份。\n",
      "\n",
      "**第二百一十六条** 不动产登记簿是物权归属和内容的根据。\n",
      "不动产登记簿记载的事项与不动产权属证书记载的事项不一致的，除有证据证明不动产登记簿确有错误外，以不动产登记簿为准。\n",
      "\n",
      "**第二百一十七条** 不动产权属证书是权利人享有该不动产物权的证明。不动产权属证书记载的事项，应当与不动产登记簿一致；不一致的，除有证据证明不动产登记簿确有错误外，以不动产登记簿为准。\n",
      "\n",
      "**第二百一十八条** 权利人、利害关系人可以申请查询、复制不动产登记资料，登记机构应当提供。\n",
      "\n",
      "**第二百一十九条** 利害关系人可以申请查询不动产登记资料。申请查询的，登记机构应当提供。\n",
      "\n",
      "**第二百二十条** 权利人、利害关系人认为不动产登记簿记载的事项错误的，可以申请更正登记。不动产登记簿记载的权利人书面同意或者有证据证明登记确有错误的，登记机构应当予以更正。\n",
      "不动产登记簿记载的权利人不同意更正的，利害关系人可以申请异议登记。登记机构予以异议登记的，申请人在异议登记之日起十五日内不提起诉讼的，异议登记失效。异议登记不当，造成权利人损害的，权利人可以请求损害赔偿。\n",
      "\n",
      "**第二百二十一条** 当事人签订买卖房屋的协议或者签订其他不动产物权的协议，为保障将来实现物权，可以依照约定向登记机构申请预告登记。预告登记后，未经预告登记的权利人同意，处分该不动产的，不发生物权效力。\n",
      "预告登记后，债权消灭或者自能够进行不动产登记之日起九十日内未申请登记的，预告登记失效。\n",
      "\n",
      "**第二百二十二条** 当事人提供虚假材料申请登记，给他人造成损害的，应当承担赔偿责任。\n",
      "因登记机构登记错误，给他人造成损害的，应当承担赔偿责任。登记机构赔偿后，可以向造成登记错误的人追偿。\n",
      "\n",
      "**第二百二十三条** 动产物权的设立和转让，自交付时发生效力，但是法律另有规定的除外。\n",
      "\n",
      "**第二百二十四条** 船舶、航空器和机动车等的物权的设立、变更、转让和消灭，未经登记，不得对抗善意第三人。\n",
      "\n",
      "**第二百二十五条** 动产物权设立和转让前，权利人已经占有该动产的，物权自民事法律行为生效时发生效力。\n",
      "\n",
      "**第二百二十六条** 动产物权设立和转让，合同生效时，所有权没有转移，标的物也未交付，标的物已经移转占有的，所有权自交付时发生效力。\n",
      "因受让人取得占有的，所有权自交付时发生效力。\n",
      "\n",
      "**第二百二十七条** 动产物权设立和转让，合同生效时，所有权没有转移，标的物也未交付，标的物由第三人占有的，出让人将返还请求权转让给受让人时，物权自交付时发生效力。\n",
      "因受让人取得占有的，所有权自交付时发生效力。\n",
      "\n",
      "**第二百二十八条** 动产物权设立和转让，合同生效时，所有权没有转移，标的物也未交付，标的物由出让人继续占有的，物权自合同生效时发生效力。\n",
      "因受让人取得占有的，所有权自交付时发生效力。\n",
      "\n",
      "**第二百二十九条** 因买卖、设定担保物权等基于法律行为而取得物权的，自法律行为生效时发生效力，但是法律另有规定的除外。\n",
      "\n",
      "**第二百三十条** 因继承取得物权的，自继承开始时发生效力。\n",
      "\n",
      "**第二百三十一条** 因合法建造、拆除房屋等事实行为设立或者消灭物权的，自事实行为完成时发生效力。\n",
      "\n",
      "**第二百三十二条** 处分权人将不动产或者动产转让给受让人，所有权已经转移，受让人尚未占有的，物权自交付时发生效力。\n",
      "受让人占有的，物权自占有发生效力。\n",
      "\n",
      "**第二百三十三条** 善意取得。\n",
      "无处分权人将不动产或者动产转让给受让人，受让人取得该不动产或者动产时是善意，且该不动产或者动产已经登记或者交付的，受让人取得该不动产或者动产的所有权。\n",
      "受让人依照前款规定取得不动产或者动产的所有权的，原权利人有权向无处分权人请求损害赔偿。\n",
      "当事人善意取得其他物权的，参照适用前两款规定。\n",
      "\n",
      "**第二百三十四条** 拾得遗失物，应当返还权利人。拾得人应当及时通知权利人领取，或者送交公安等有关部门。\n",
      "\n",
      "**第二百三十五条** 遗失物自发布招领公告之日起一年内无人认领的，归国家所有。\n",
      "\n",
      "**第二百三十六条** 权利人悬赏寻找遗失物的，领取遗失物时应当按照承诺向拾得人支付报酬。\n",
      "拾得人侵占遗失物的，无权请求保管费等费用，也无权请求权利人支付报酬。\n",
      "\n",
      "**第二百三十七条** 发现埋藏物、隐藏物的，参照适用拾得遗失物的有关规定。\n",
      "法律另有规定的，依照其规定。\n",
      "\n",
      "**第二百三十八条** 拾得漂流物、失散的饲养动物或者受到损害的财产，参照适用拾得遗失物的有关规定。\n",
      "\n",
      "**第二百三十九条** 征收是指国家为了公共利益的需要，依照法律规定的权限和程序对集体所有的土地和房屋、单位、个人的房屋以及其他不动产实行征收或者征用，并给予补偿。\n",
      "征收组织、个人的房屋及其他不动产，应当依法给予公平、合理的补偿，保障被征收人的居住条件和财产权利。\n",
      "\n",
      "**第二百四十条** 为了公共利益的需要，依照法律规定的权限和程序可以征收组织、个人的房屋以及其他不动产，并给予公平、合理的补偿。\n",
      "国家为了公共利益的需要，依照法律规定的权限和程序可以对集体所有的土地和房屋实行征收或者征用，并给予补偿。\n",
      "\n",
      "**第二百四十一条** 征收集体所有的土地，应当依法及时足额支付土地补偿费、安置补助费以及农村村民住宅、其他地上附着物和青苗等的补偿费用，并安排被征地农民的社会保障费用，保障被征地农民的生活，维护其合法权益。\n",
      "征收组织、个人的房屋及其他不动产，应当依法给予公平、合理的补偿，保障被征收人的居住条件和财产权利。\n",
      "\n",
      "**第二百四十二条** 为了公共利益的需要，依照法律规定的权限和程序可以征用组织、个人的房屋以及其他不动产。\n",
      "征用单位、个人的房屋及其他不动产，应当依照法律规定的权限和程序进行，并给予补偿。\n",
      "\n",
      "**第二百四十三条** 法律、行政法规对不动产或者动产的归属有特别规定的，依照其规定。\n",
      "\n",
      "\n",
      "--------------------\n",
      "--- Segment 3 ---\n",
      "第二章 所有权\n",
      "\n",
      "#\n",
      "--------------------\n",
      "--- Segment 4 ---\n",
      "第一节 一般规定\n",
      "\n",
      "**第二百四十四条** 所有权人对自己的不动产或者动产，依法享有占有、使用、收益和处分的权利。\n",
      "\n",
      "**第二百四十五条** 法律规定专属于国家所有的不动产和动产，任何组织或者个人不得取得所有权。\n",
      "\n",
      "**第二百四十四条** 所有权人对自己的不动产或者动产，依法享有占有、使用、收益和处分的权利。\n",
      "\n",
      "**第二百四十六条** 法律规定专属于国家所有的不动产和动产，任何组织或者个人不得取得所有权。\n",
      "\n",
      "**第二百四十七条** 为了公共利益的需要，依照法律规定的权限和程序可以征收组织、个人的房屋以及其他不动产。\n",
      "征收组织、个人的房屋及其他不动产，应当依法给予公平、合理的补偿，保障被征收人的居住条件和财产权利。\n",
      "\n",
      "**第二百四十八条** 国家为了公共利益的需要，依照法律规定的权限和程序可以对集体所有的土地和房屋实行征收或者征用，并给予补偿。\n",
      "\n",
      "**第二百四十九条** 为了公共利益的需要，依照法律规定的权限和程序可以征用组织、个人的房屋以及其他不动产。\n",
      "征用单位、个人的房屋及其他不动产，应当依照法律规定的权限和程序进行，并给予补偿。\n",
      "\n",
      "**第二百五十条** 法律、行政法规对不动产或者动产的归属有特别规定的，依照其规定。\n",
      "\n",
      "**第二百五十一条** 矿藏、水流、海域等自然资源属于国家所有。法律规定属于集体所有的，依照其规定。\n",
      "\n",
      "**第二百五十二条** 城市的土地，属于国家所有。法律规定属于国家所有的土地，任何组织或者个人不得侵占、买卖或者以其他形式非法转让。\n",
      "农村和城市郊区的土地，除由法律规定属于国家所有的以外，属于集体所有；宅基地和自留地、自留山，属于集体所有。\n",
      "\n",
      "**第二百五十三条** 矿藏、水流、海域等自然资源属于国家所有。法律规定属于集体所有的，依照其规定。\n",
      "\n",
      "**第二百五十四条** 城市的土地，属于国家所有。法律规定属于国家所有的土地，任何组织或者个人不得侵占、买卖或者以其他形式非法转让。\n",
      "农村和城市郊区的土地，除由法律规定属于国家所有的以外，属于集体所有；宅基地和自留地、自留山，属于集体所有。\n",
      "\n",
      "**第二百五十五条** 国家所有财产的范围和管理方式，由法律、行政法规规定。\n",
      "\n",
      "**第二百五十六条** 所有的国家所有的财产，任何人不得侵占、哄抢、破坏。\n",
      "\n",
      "**第二百五十七条** 机关法人、事业单位法人、社会团体法人等法人的财产，属于国家所有。法律另有规定的，依照其规定。\n",
      "\n",
      "**第二百五十八条** 农村集体经济组织的财产，属于集体所有。\n",
      "法律规定属于集体所有的土地和房屋、山林、草地、荒地、滩涂等，依照其规定。\n",
      "\n",
      "**第二百五十九条** 集体所有的土地依照法律规定属于集体所有的，其所有权由集体经济组织或者村民委员会、村民小组代表集体行使。\n",
      "法律规定属于集体所有的土地和房屋、山林、草地、荒地、滩涂等，依照其规定。\n",
      "\n",
      "**第二百六十条** 宅基地和自留地、自留山，属于集体所有。\n",
      "法律规定属于集体所有的土地和房屋、山林、草地、荒地、滩涂等，依照其规定。\n",
      "\n",
      "**第二百六十一条** 属于国家所有的自然资源，所有权可以不登记。\n",
      "\n",
      "**第二百六十二条** 国家、集体、私人的物权和其他权利人的物权受法律平等保护，任何组织或者个人不得侵犯。\n",
      "\n",
      "**第二百六十三条** 私人对其合法所有的财产，依法享有占有、使用、收益和处分的权利。\n",
      "\n",
      "**第二百六十四条** 国家、集体、私人的物权和其他权利人的物权受法律平等保护，任何组织或者个人不得侵犯。\n",
      "\n",
      "**第二百六十五条** 私人所有的不动产或者动产被征收、征用，依法给予公平、合理的补偿。\n",
      "\n",
      "**第二百六十六条** 为了公共利益的需要，依照法律规定的权限和程序可以征收组织、个人的房屋以及其他不动产。\n",
      "征收组织、个人的房屋及其他不动产，应当依法给予公平、合理的补偿，保障被征收人的居住条件和财产权利。\n",
      "\n",
      "**第二百六十七条** 征用单位、个人的房屋及其他不动产，应当依照法律规定的权限和程序进行，并给予补偿。\n",
      "\n",
      "**第二百六十八条** 法律对集体所有的财产有特别保护的，依照其规定。\n",
      "\n",
      "**第二百六十九条** 建筑区划内的道路，属于业主共有，但是属于城镇公共道路的除外。建筑区划内的绿地，属于业主共有，但是属于城镇公共绿地或者明示属于个人的除外。建筑区划内的其他公共场所、公用设施和物业服务用房，属于业主共有。\n",
      "\n",
      "**第二百七十条** 业主对建筑物专有部分以外的共有部分，享有共有和共同管理的权利。\n",
      "\n",
      "**第二百七十一条** 业主对建筑物内的住宅、经营性用房等专有部分享有所有权。业主可以行使权利，但不得危及建筑物的安全，不得损害其他业主的合法权益。\n",
      "\n",
      "**第二百七十二条** 业主可以设立业主大会，选举业主委员会。业主大会、业主委员会的成立和活动，适用法律、法规的规定。\n",
      "\n",
      "**第二百七十三条** 业主对其建筑物专有部分享有占有、使用、收益和处分的权利。业主行使权利不得危及建筑物的安全，不得损害其他业主的合法权益。\n",
      "\n",
      "**第二百七十四条** 业主对建筑物内的住宅、经营性用房等专有部分享有所有权。业主可以行使权利，但不得危及建筑物的安全，不得损害其他业主的合法权益。\n",
      "\n",
      "**第二百七十五条** 建筑区划内的道路，属于业主共有，但是属于城镇公共道路的除外。建筑区划内的绿地，属于业主共有，但是属于城镇公共绿地或者明示属于个人的除外。建筑区划内的其他公共场所、公用设施和物业服务用房，属于业主共有。\n",
      "\n",
      "**第二百七十六条** 建筑区划内规划用于停放汽车的车位、车库的归属，由当事人通过出售、附赠或者出租等方式约定。\n",
      "占用业主共有的道路或者其他场地用于停放汽车的车位，属于业主共有。\n",
      "\n",
      "**第二百七十七条** 业主不得以放弃权利为由不履行义务。\n",
      "\n",
      "**第二百七十八条** 业主可以设立业主大会，选举业主委员会。业主大会、业主委员会的成立和活动，适用法律、法规的规定。\n",
      "\n",
      "**第二百七十九条** 业主大会或者业主委员会，对任意弃置垃圾、排放污染物或者噪声、违反规定饲养动物、违章搭建、侵占通道、拒付物业费等损害他人合法权益的行为，有权依照法律、法规以及管理规约，请求行为人停止侵害、消除危险、排除妨碍、恢复原状、赔偿损失。\n",
      "业主大会或者业主委员会请求行为人承担民事责任的，人民法院应当依法支持。\n",
      "\n",
      "**第二百八十条** 业主可以自行管理建筑物及其附属设施，也可以委托物业服务企业或者其他管理人管理。\n",
      "\n",
      "**第二百八十一条** 业主大会或者业主委员会，对任意弃置垃圾、排放污染物或者噪声、违反规定饲养动物、违章搭建、侵占通道、拒付物业费等损害他人合法权益的行为，有权依照法律、法规以及管理规约，请求行为人停止侵害、消除危险、排除妨碍、恢复原状、赔偿损失。\n",
      "业主大会或者业主委员会请求行为人承担民事责任的，人民法院应当依法支持。\n",
      "\n",
      "**第二百八十二条** 物业服务企业或者其他管理人根据业主的委托，依照法律、法规的规定和合同的约定，对建筑物及其附属设施进行维修、养护、管理，维护环境卫生和公共秩序，向业主提供服务。\n",
      "物业服务企业或者其他管理人应当接受业主的监督，并对业主大会和业主委员会负责。\n",
      "\n",
      "**第二百八十三条** 业主大会或者业主委员会作出的决定，对业主具有约束力。\n",
      "业主大会或者业主委员会作出的决定侵害业主合法权益的，受侵害的业主可以请求人民法院撤销。\n",
      "\n",
      "**第二百八十四条** 业主应当遵守法律、法规以及管理规约。\n",
      "管理规约对全体业主具有约束力。\n",
      "\n",
      "**第二百八十五条** 业主应当按照约定，向物业服务企业或者其他管理人支付物业费。物业服务企业或者其他管理人已经按照约定和有关规定提供服务的，业主不得以未接受或者无需接受相关物业服务为由拒绝支付物业费。\n",
      "\n",
      "**第二百八十六条** 违反国家有关规定，在建筑物及其附属设施上挖洞、凿孔、擅自改变房屋结构、用途，或者设置妨碍他人通行、采光、通风的设施等，损害他人合法权益的，应当依法承担民事责任。\n",
      "\n",
      "**第二百八十七条** 业主对共有部分享有共有权和共同管理的权利。\n",
      "业主可以就建筑物及其附属设施的维修、养护、管理等事项，通过管理规约、业主大会议事规则等形式，约定共同管理的方式和内容。\n",
      "\n",
      "**第二百八十八条** 不动产相邻权利人应当按照有利生产、方便生活、团结互助、公平合理的原则，正确处理相邻关系。\n",
      "\n",
      "**第二百八十九条** 法律、法规对处理相邻关系有规定的，依照其规定；法律、法规没有规定的，可以按照当地习惯。\n",
      "\n",
      "**第二百九十条** 不动产权利人对自然流水的利用，应当在合理范围内，不得损害相邻不动产权利人的合法权益。\n",
      "\n",
      "**第二百九十一条** 不动产权利人因用水、排水需要，可以利用相邻不动产；对自然流水的利用，应当在合理范围内。\n",
      "利用相邻不动产时，应当给予相邻不动产权利人必要的补偿；造成损害的，应当赔偿损失。\n",
      "\n",
      "**第二百九十二条** 不动产权利人因修建、施工等需要在相邻不动产上通过的，相邻不动产权利人应当提供便利；造成损害的，应当赔偿损失。\n",
      "\n",
      "**第二百九十三条** 土地权利人因通行等需要，可以利用相邻土地；对自然流水的利用，应当在合理范围内。\n",
      "利用相邻土地时，应当给予相邻土地权利人必要的补偿；造成损害的，应当赔偿损失。\n",
      "\n",
      "**第二百九十四条** 不动产权利人因利用相邻不动产取得的利益，应当给予相邻不动产权利人必要的补偿。\n",
      "造成损害的，应当赔偿损失。\n",
      "\n",
      "**第二百九十五条** 建造建筑物，不得违反国家有关工程建设标准，妨碍相邻不动产的通风、采光和日照。\n",
      "\n",
      "**第二百九十六条** 不动产权利人因通行等需要，可以利用相邻土地；对自然流水的利用，应当在合理范围内。\n",
      "利用相邻土地时，应当给予相邻土地权利人必要的补偿；造成损害的，应当赔偿损失。\n",
      "\n",
      "**第二百九十七条** 建筑物及其附属设施，应当与相邻建筑物保持必要的距离，不得影响相邻建筑物的通风、采光和日照。\n",
      "\n",
      "**第二百九十八条** 不动产权利人因建造、修缮建筑物以及其他原因，应当对相邻不动产造成损害的，应当依法承担民事责任。\n",
      "\n",
      "**第二百九十九条** 不动产权利人对相邻土地使用权的行使，应当有利于相邻土地的利用，不得妨碍相邻土地的正常使用。\n",
      "\n",
      "**第三百条** 不动产权利人对相邻不动产的排水、排污，应当采取必要措施，不得污染环境。\n",
      "\n",
      "**第三百零一条** 不动产权利人因使用相邻不动产造成损害的，应当给予相邻不动产权利人必要的补偿。\n",
      "造成损害的，应当赔偿损失。\n",
      "\n",
      "**第三百零二条** 不动产权利人因行使权利，给相邻不动产权利人造成损害的，应当依法承担民事责任。\n",
      "\n",
      "**第三百零三条** 不动产权利人对相邻不动产的通风、采光、日照，应当予以方便，不得妨碍相邻不动产的正常使用。\n",
      "\n",
      "**第三百零四条** 不动产权利人对相邻土地使用权的行使，应当有利于相邻土地的利用，不得妨碍相邻土地的正常使用。\n",
      "\n",
      "**第三百零五条** 不动产权利人因使用相邻不动产造成损害的，应当给予相邻不动产权利人必要的补偿。\n",
      "造成损害的，应当赔偿损失。\n",
      "\n",
      "**第三百零六条** 不动产权利人对相邻不动产的排水、排污，应当采取必要措施，不得污染环境。\n",
      "\n",
      "**第三百零七条** 不动产权利人对相邻土地使用权的行使，应当有利于相邻土地的利用，不得妨碍相邻土地的正常使用。\n",
      "\n",
      "**第三百零八条** 不动产权利人对相邻不动产的通风、采光、日照，应当予以方便，不得妨碍相邻不动产的正常使用。\n",
      "\n",
      "**第三百零九条** 不动产权利人因行使权利，给相邻不动产权利人造成损害的，应当依法承担民事责任。\n",
      "\n",
      "#\n",
      "--------------------\n",
      "--- Segment 5 ---\n",
      "第二节 共有\n",
      "\n",
      "**第三百一十条** 两个以上组织、个人共同享有用益物权、担保物权的，参照适用本章共有以及其他相关法律的规定。\n",
      "\n",
      "**第三百一十一条** 区分所有建筑物的共有部分，由业主共同享有所有权。\n",
      "业主对建筑物专有部分以外的共有部分，享有共有和共同管理的权利。\n",
      "\n",
      "**第三百一十二条** 共同共有人对共有的不动产或者动产共同享有所有权。\n",
      "共同共有人对共有财产享有平等的占有、使用、收益和处分的权利。\n",
      "\n",
      "**第三百一十三条** 共同共有人对共有财产享有平等的占有、使用、收益和处分的权利。\n",
      "在共同共有关系存续期间，部分共同共有人未经其他共同共有人同意，擅自处分共有财产的，处分行为无效。\n",
      "但是，第三人善意取得的，适用本法第三百一十一条的规定。\n",
      "\n",
      "**第三百一十四条** 按份共有人对共有的不动产或者动产按照其份额享有所有权。\n",
      "\n",
      "**第三百一十五条** 按份共有人对共有的不动产或者动产按照其份额享有占有、使用、收益和处分的权利。\n",
      "\n",
      "**第三百一十六条** 按份共有人转让其享有的份额，其他按份共有人在同等条件下享有优先购买的权利。\n",
      "\n",
      "**第三百一十七条** 按份共有人在共同关系存续期间，可以协议变更共有份额。\n",
      "没有约定或者约定不明确的，按照出资额确定；不能确定出资额的，视为等额享有。\n",
      "\n",
      "**第三百一十八条** 共有人在共同关系存续期间，对共有物享有共有和共同管理的权利。\n",
      "对共有物的管理，除共有人另有约定外，应当由全体共有人一致同意。\n",
      "但是，对共有物的维修、养护等事项，可以由按份共有人按照各自的份额比例共同决定；共同共有人可以共同决定。\n",
      "\n",
      "**第三百一十九条** 共有物的分割，可以协议分割。\n",
      "协议不成的，可以请求人民法院分割；但共有物不宜分割或者分割会减损价值的，可以折价或者拍卖、变卖。\n",
      "\n",
      "**第三百二十条** 共有物分割后，原共有人对分割前的共有债务，承担连带责任。\n",
      "\n",
      "**第三百二十一条** 共有物分割后，各共有人对其分得的财产享有所有权。\n",
      "共有物分割后，各共有人对分割前的共有债务，承担连带责任。\n",
      "\n",
      "**第三百二十二条** 共有物分割后，各共有人对分割前的共有债务，承担连带责任。\n",
      "但是，共有物分割后，各共有人对其分得的财产，仅以其分得的财产为限承担责任。\n",
      "\n",
      "**第三百二十三条** 共有关系存续期间，共有人可以约定对共有物的管理方式。\n",
      "没有约定或者约定不明确的，按照以下规定：\n",
      "（一）共同共有关系存续期间，共有物的管理，除共有人另有约定外，应当由全体共有人一致同意。\n",
      "（二）按份共有关系存续期间，对共有物的管理，除共有人另有约定外，应当由占份额三分之二以上的按份共有人同意。\n",
      "\n",
      "**第三百二十四条** 共有人对共有物享有共有和共同管理的权利。\n",
      "共有人对共有物的管理，除共有人另有约定外，应当由全体共有人一致同意。\n",
      "但是，对共有物的维修、养护等事项，可以由按份共有人按照各自的份额比例共同决定；共同共有人可以共同决定。\n",
      "\n",
      "**第三百二十五条** 共有人对共有物享有共有和共同管理的权利。\n",
      "共有人对共有物的管理，除共有人另有约定外，应当由全体共有人一致同意。\n",
      "但是，对共有物的维修、养护等事项，可以由按份共有人按照各自的份额比例共同决定；共同共有人可以共同决定。\n",
      "\n",
      "#\n",
      "--------------------\n"
     ]
    }
   ],
   "source": [
    "import re\n",
    "\n",
    "# 假设 mfd.md 就在当前目录下\n",
    "file_path = \"mfd.md\"\n",
    "with open(file_path, \"r\", encoding=\"utf-8\") as file: # 确保使用 utf-8 编码读取中文\n",
    "    file_text = file.read()\n",
    "\n",
    "text_lines2 = []\n",
    "\n",
    "# # 方案一\n",
    "# # 定义一个正则表达式，用于匹配以“**XXX条**”开头的条文\n",
    "# # 但是，最简单且适用于你当前文件的策略是直接匹配“**第”和“条**”\n",
    "# split_pattern = r\"\\*\\*第[零一二三四五六七八九十百千万]+条\\*\\*|\\*\\*第\\d+条\\*\\*\"\n",
    "\n",
    "# # 使用re.split进行分割，re.split会保留分隔符，所以我们需要一些后处理\n",
    "# # re.split(pattern, string, flags=re.MULTILINE) 可以用来处理多行文本\n",
    "# # re.split 会在匹配到的地方进行分割，并且把匹配到的内容（分隔符）也作为列表的一部分返回\n",
    "# # 我们需要对返回的列表进行处理，将条文号与条文内容组合\n",
    "# split_results = re.split(split_pattern, file_text)\n",
    "\n",
    "# # 获取所有匹配的条文标题，以便后面组合\n",
    "# article_titles = re.findall(split_pattern, file_text)\n",
    "\n",
    "# # 重新组合文本，确保每个片段都以条文标题开头\n",
    "# # 第一个 split_results[0] 是文件开头到第一个条文的内容，通常是空白或者不需要的引言\n",
    "# # 从第二个元素开始，每个 split_results[i] 是一个条文的内容，\n",
    "# # 并且 article_titles[i-1] 是对应的条文标题\n",
    "# parsed_articles = []\n",
    "# for i in range(len(article_titles)):\n",
    "#     # 确保条文标题和内容正确拼接\n",
    "#     # split_results 的长度会比 article_titles 的长度多1\n",
    "#     # split_results[i+1] 是当前条文标题后的内容\n",
    "#     article_content = article_titles[i] + split_results[i+1].strip()\n",
    "#     parsed_articles.append(article_content.strip()) # 移除多余的空白符\n",
    "\n",
    "# text_lines2 = parsed_articles\n",
    "\n",
    "# 方案二\n",
    "text_lines2 += file_text.split(\"#### \")\n",
    "\n",
    "\n",
    "# 观察结果\n",
    "print(len(text_lines2))\n",
    "\n",
    "# 打印前几个片段看效果\n",
    "for i, line in enumerate(text_lines2[:5]):\n",
    "    print(f\"--- Segment {i+1} ---\")\n",
    "    print(line)\n",
    "    print(\"-\" * 20)\n"
   ]
  },
  {
   "cell_type": "code",
   "execution_count": 7,
   "id": "033799ad",
   "metadata": {},
   "outputs": [
    {
     "name": "stderr",
     "output_type": "stream",
     "text": [
      "Creating embeddings2: 100%|██████████| 27/27 [00:00<00:00, 79863.33it/s]\n"
     ]
    },
    {
     "name": "stdout",
     "output_type": "stream",
     "text": [
      "[\n",
      "    [\n",
      "        \"\\u4e8c\\u3001\\u6743\\u5229\\u8d28\\u6743\\n\\n**\\u7b2c\\u56db\\u767e\\u56db\\u5341\\u4e5d\\u6761** \\u53ef\\u4ee5\\u51fa\\u8d28\\u7684\\u6743\\u5229\\u5305\\u62ec\\uff1a\\n\\uff08\\u4e00\\uff09\\u6c47\\u7968\\u3001\\u672c\\u7968\\u3001\\u652f\\u7968\\uff1b\\n\\uff08\\u4e8c\\uff09\\u503a\\u5238\\u3001\\u5b58\\u6b3e\\u5355\\uff1b\\n\\uff08\\u4e09\\uff09\\u4ed3\\u5355\\u3001\\u63d0\\u5355\\uff1b\\n\\uff08\\u56db\\uff09\\u53ef\\u4ee5\\u8f6c\\u8ba9\\u7684\\u57fa\\u91d1\\u4efd\\u989d\\u3001\\u80a1\\u6743\\uff1b\\n\\uff08\\u4e94\\uff09\\u53ef\\u4ee5\\u8f6c\\u8ba9\\u7684\\u6ce8\\u518c\\u5546\\u6807\\u4e13\\u7528\\u6743\\u3001\\u4e13\\u5229\\u6743\\u3001\\u8457\\u4f5c\\u6743\\u7b49\\u77e5\\u8bc6\\u4ea7\\u6743\\u4e2d\\u7684\\u8d22\\u4ea7\\u6743\\uff1b\\n\\uff08\\u516d\\uff09\\u5e94\\u6536\\u8d26\\u6b3e\\uff1b\\n\\uff08\\u4e03\\uff09\\u6cd5\\u5f8b\\u3001\\u884c\\u653f\\u6cd5\\u89c4\\u89c4\\u5b9a\\u53ef\\u4ee5\\u51fa\\u8d28\\u7684\\u5176\\u4ed6\\u8d22\\u4ea7\\u6743\\u5229\\u3002\\n\\n**\\u7b2c\\u56db\\u767e\\u4e94\\u5341\\u6761** \\u4ee5\\u6c47\\u7968\\u3001\\u672c\\u7968\\u3001\\u652f\\u7968\\u3001\\u503a\\u5238\\u3001\\u5b58\\u6b3e\\u5355\\u3001\\u4ed3\\u5355\\u3001\\u63d0\\u5355\\u51fa\\u8d28\\u7684\\uff0c\\u5f53\\u4e8b\\u4eba\\u5e94\\u5f53\\u8ba2\\u7acb\\u4e66\\u9762\\u5408\\u540c\\u3002\\u8d28\\u6743\\u81ea\\u6743\\u5229\\u51ed\\u8bc1\\u4ea4\\u4ed8\\u4e4b\\u65e5\\u8d77\\u8bbe\\u7acb\\u3002\\n\\n**\\u7b2c\\u56db\\u767e\\u4e94\\u5341\\u4e00\\u6761** \\u4ee5\\u8bb0\\u540d\\u80a1\\u7968\\u51fa\\u8d28\\u7684\\uff0c\\u5f53\\u4e8b\\u4eba\\u5e94\\u5f53\\u8ba2\\u7acb\\u4e66\\u9762\\u5408\\u540c\\u3002\\u8d28\\u6743\\u81ea\\u80a1\\u7968\\u4ea4\\u4ed8\\u4e4b\\u65e5\\u8d77\\u8bbe\\u7acb\\u3002\\n\\u4ee5\\u672a\\u4e0a\\u5e02\\u516c\\u53f8\\u80a1\\u6743\\u51fa\\u8d28\\u7684\\uff0c\\u9002\\u7528\\u516c\\u53f8\\u6cd5\\u6709\\u5173\\u80a1\\u6743\\u8f6c\\u8ba9\\u7684\\u89c4\\u5b9a\\u3002\\n\\n**\\u7b2c\\u56db\\u767e\\u4e94\\u5341\\u4e8c\\u6761** \\u4ee5\\u53ef\\u4ee5\\u8f6c\\u8ba9\\u7684\\u57fa\\u91d1\\u4efd\\u989d\\u3001\\u80a1\\u6743\\u51fa\\u8d28\\u7684\\uff0c\\u5f53\\u4e8b\\u4eba\\u5e94\\u5f53\\u8ba2\\u7acb\\u4e66\\u9762\\u5408\\u540c\\u3002\\u8d28\\u6743\\u81ea\\u57fa\\u91d1\\u4efd\\u989d\\u3001\\u80a1\\u6743\\u767b\\u8bb0\\u4e8e\\u8bc1\\u5238\\u767b\\u8bb0\\u7ed3\\u7b97\\u673a\\u6784\\u6216\\u8005\\u516c\\u53f8\\u7ae0\\u7a0b\\u8f7d\\u660e\\u7684\\u80a1\\u6743\\u767b\\u8bb0\\u7c3f\\u65f6\\u8bbe\\u7acb\\u3002\\n\\u4ee5\\u672a\\u4e0a\\u5e02\\u516c\\u53f8\\u80a1\\u6743\\u51fa\\u8d28\\u7684\\uff0c\\u9002\\u7528\\u516c\\u53f8\\u6cd5\\u6709\\u5173\\u80a1\\u6743\\u8f6c\\u8ba9\\u7684\\u89c4\\u5b9a\\u3002\\n\\n**\\u7b2c\\u56db\\u767e\\u4e94\\u5341\\u4e09\\u6761** \\u4ee5\\u53ef\\u4ee5\\u8f6c\\u8ba9\\u7684\\u6ce8\\u518c\\u5546\\u6807\\u4e13\\u7528\\u6743\\u3001\\u4e13\\u5229\\u6743\\u3001\\u8457\\u4f5c\\u6743\\u7b49\\u77e5\\u8bc6\\u4ea7\\u6743\\u4e2d\\u7684\\u8d22\\u4ea7\\u6743\\u51fa\\u8d28\\u7684\\uff0c\\u5f53\\u4e8b\\u4eba\\u5e94\\u5f53\\u8ba2\\u7acb\\u4e66\\u9762\\u5408\\u540c\\u3002\\u8d28\\u6743\\u81ea\\u6743\\u5229\\u8d28\\u62bc\\u767b\\u8bb0\\u4e8e\\u76f8\\u5173\\u90e8\\u95e8\\u65f6\\u8bbe\\u7acb\\u3002\\n\\n**\\u7b2c\\u56db\\u767e\\u4e94\\u5341\\u56db\\u6761** \\u4ee5\\u5e94\\u6536\\u8d26\\u6b3e\\u51fa\\u8d28\\u7684\\uff0c\\u5f53\\u4e8b\\u4eba\\u5e94\\u5f53\\u8ba2\\u7acb\\u4e66\\u9762\\u5408\\u540c\\u3002\\u8d28\\u6743\\u81ea\\u5e94\\u6536\\u8d26\\u6b3e\\u8d28\\u62bc\\u767b\\u8bb0\\u4e8e\\u4e2d\\u56fd\\u4eba\\u6c11\\u94f6\\u884c\\u5f81\\u4fe1\\u4e2d\\u5fc3\\u65f6\\u8bbe\\u7acb\\u3002\\n\\n**\\u7b2c\\u56db\\u767e\\u4e94\\u5341\\u4e94\\u6761** \\u4ee5\\u6cd5\\u5f8b\\u3001\\u884c\\u653f\\u6cd5\\u89c4\\u89c4\\u5b9a\\u53ef\\u4ee5\\u51fa\\u8d28\\u7684\\u5176\\u4ed6\\u8d22\\u4ea7\\u6743\\u5229\\u51fa\\u8d28\\u7684\\uff0c\\u4f9d\\u7167\\u6cd5\\u5f8b\\u3001\\u884c\\u653f\\u6cd5\\u89c4\\u7684\\u89c4\\u5b9a\\u3002\\n\\n**\\u7b2c\\u56db\\u767e\\u4e94\\u5341\\u516d\\u6761** \\u6743\\u5229\\u8d28\\u6743\\u9664\\u9002\\u7528\\u672c\\u8282\\u89c4\\u5b9a\\u5916\\uff0c\\u53c2\\u7167\\u9002\\u7528\\u672c\\u7ae0\\u52a8\\u4ea7\\u8d28\\u6743\\u7684\\u6709\\u5173\\u89c4\\u5b9a\\u3002\\n\\n#\",\n",
      "        0.6195474863052368\n",
      "    ],\n",
      "    [\n",
      "        \"\\u7b2c\\u4e00\\u8282 \\u4e00\\u822c\\u89c4\\u5b9a\\n\\n**\\u7b2c\\u4e09\\u767e\\u4e94\\u5341\\u4e09\\u6761** \\u7528\\u76ca\\u7269\\u6743\\u4eba\\u5bf9\\u4ed6\\u4eba\\u6240\\u6709\\u7684\\u4e0d\\u52a8\\u4ea7\\u6216\\u8005\\u52a8\\u4ea7\\uff0c\\u4f9d\\u6cd5\\u4eab\\u6709\\u5360\\u6709\\u3001\\u4f7f\\u7528\\u548c\\u6536\\u76ca\\u7684\\u6743\\u5229\\u3002\\n\\n**\\u7b2c\\u4e09\\u767e\\u4e94\\u5341\\u56db\\u6761** \\u8bbe\\u7acb\\u7528\\u76ca\\u7269\\u6743\\uff0c\\u5f53\\u4e8b\\u4eba\\u5e94\\u5f53\\u4f9d\\u7167\\u6cd5\\u5f8b\\u89c4\\u5b9a\\u529e\\u7406\\u767b\\u8bb0\\u3002\\n\\u672a\\u7ecf\\u767b\\u8bb0\\uff0c\\u4e0d\\u53d1\\u751f\\u7269\\u6743\\u6548\\u529b\\u3002\\n\\n**\\u7b2c\\u4e09\\u767e\\u4e94\\u5341\\u4e94\\u6761** \\u7528\\u76ca\\u7269\\u6743\\u4eba\\u884c\\u4f7f\\u6743\\u5229\\uff0c\\u4e0d\\u5f97\\u635f\\u5bb3\\u6240\\u6709\\u6743\\u4eba\\u7684\\u5408\\u6cd5\\u6743\\u76ca\\u3002\\n\\u7528\\u76ca\\u7269\\u6743\\u4eba\\u4e0d\\u5f97\\u8f6c\\u8ba9\\u3001\\u51fa\\u79df\\u3001\\u62c5\\u4fdd\\u5176\\u7528\\u76ca\\u7269\\u6743\\u3002\\u6cd5\\u5f8b\\u53e6\\u6709\\u89c4\\u5b9a\\u6216\\u8005\\u5f53\\u4e8b\\u4eba\\u53e6\\u6709\\u7ea6\\u5b9a\\u7684\\u9664\\u5916\\u3002\\n\\n**\\u7b2c\\u4e09\\u767e\\u4e94\\u5341\\u516d\\u6761** \\u7528\\u76ca\\u7269\\u6743\\u6d88\\u706d\\u7684\\uff0c\\u767b\\u8bb0\\u673a\\u6784\\u5e94\\u5f53\\u4f9d\\u6cd5\\u529e\\u7406\\u6ce8\\u9500\\u767b\\u8bb0\\u3002\\n\\n**\\u7b2c\\u4e09\\u767e\\u4e94\\u5341\\u4e03\\u6761** \\u7528\\u76ca\\u7269\\u6743\\u53ef\\u4ee5\\u7531\\u5f53\\u4e8b\\u4eba\\u7ea6\\u5b9a\\u5176\\u5185\\u5bb9\\u3002\\n\\u6cd5\\u5f8b\\u3001\\u884c\\u653f\\u6cd5\\u89c4\\u5bf9\\u7528\\u76ca\\u7269\\u6743\\u6709\\u7279\\u522b\\u89c4\\u5b9a\\u7684\\uff0c\\u4f9d\\u7167\\u5176\\u89c4\\u5b9a\\u3002\\n\\n#\",\n",
      "        0.6098328828811646\n",
      "    ],\n",
      "    [\n",
      "        \"\\u7b2c\\u56db\\u8282 \\u5b85\\u57fa\\u5730\\u4f7f\\u7528\\u6743\\n\\n**\\u7b2c\\u4e09\\u767e\\u4e03\\u5341\\u4e03\\u6761** \\u5b85\\u57fa\\u5730\\u4f7f\\u7528\\u6743\\u4eba\\u4f9d\\u6cd5\\u5bf9\\u96c6\\u4f53\\u6240\\u6709\\u7684\\u571f\\u5730\\u548c\\u56fd\\u5bb6\\u6240\\u6709\\u7531\\u96c6\\u4f53\\u7ecf\\u6d4e\\u7ec4\\u7ec7\\u5206\\u914d\\u7ed9\\u4e2a\\u4eba\\u7684\\u571f\\u5730\\uff0c\\u4eab\\u6709\\u5360\\u6709\\u3001\\u4f7f\\u7528\\u548c\\u6536\\u76ca\\u7684\\u6743\\u5229\\uff0c\\u6709\\u6743\\u5728\\u5b85\\u57fa\\u5730\\u4e0a\\u5efa\\u9020\\u623f\\u5c4b\\u53ca\\u5176\\u9644\\u5c5e\\u8bbe\\u65bd\\u3002\\n\\n**\\u7b2c\\u4e09\\u767e\\u4e03\\u5341\\u516b\\u6761** \\u5b85\\u57fa\\u5730\\u4f7f\\u7528\\u6743\\u7684\\u8bbe\\u7acb\\u3001\\u884c\\u4f7f\\u548c\\u8f6c\\u8ba9\\uff0c\\u9002\\u7528\\u6cd5\\u5f8b\\u3001\\u6cd5\\u89c4\\u7684\\u89c4\\u5b9a\\u3002\\n\\n**\\u7b2c\\u4e09\\u767e\\u4e03\\u5341\\u4e5d\\u6761** \\u5b85\\u57fa\\u5730\\u4f7f\\u7528\\u6743\\u4eba\\u4f9d\\u6cd5\\u4eab\\u6709\\u5b85\\u57fa\\u5730\\u4e0a\\u7684\\u623f\\u5c4b\\u53ca\\u5176\\u9644\\u5c5e\\u8bbe\\u65bd\\u7684\\u6240\\u6709\\u6743\\u3002\\n\\u5b85\\u57fa\\u5730\\u4f7f\\u7528\\u6743\\u4eba\\u6709\\u6743\\u5728\\u5b85\\u57fa\\u5730\\u4e0a\\u5efa\\u9020\\u623f\\u5c4b\\u53ca\\u5176\\u9644\\u5c5e\\u8bbe\\u65bd\\u3002\\n\\n**\\u7b2c\\u4e09\\u767e\\u516b\\u5341\\u6761** \\u5b85\\u57fa\\u5730\\u4f7f\\u7528\\u6743\\u53ef\\u4ee5\\u8f6c\\u8ba9\\u3001\\u4e92\\u6362\\u3001\\u7ee7\\u627f\\u3002\\n\\u8f6c\\u8ba9\\u3001\\u4e92\\u6362\\u5b85\\u57fa\\u5730\\u4f7f\\u7528\\u6743\\u7684\\uff0c\\u5e94\\u5f53\\u4f9d\\u7167\\u6cd5\\u5f8b\\u89c4\\u5b9a\\u529e\\u7406\\u767b\\u8bb0\\u3002\\n\\n**\\u7b2c\\u4e09\\u767e\\u516b\\u5341\\u4e00\\u6761** \\u5b85\\u57fa\\u5730\\u4f7f\\u7528\\u6743\\u6d88\\u706d\\u7684\\uff0c\\u767b\\u8bb0\\u673a\\u6784\\u5e94\\u5f53\\u4f9d\\u6cd5\\u529e\\u7406\\u6ce8\\u9500\\u767b\\u8bb0\\u3002\\n\\u5b85\\u57fa\\u5730\\u4f7f\\u7528\\u6743\\u4eba\\u5e94\\u5f53\\u4f9d\\u7167\\u6cd5\\u5f8b\\u89c4\\u5b9a\\uff0c\\u5411\\u571f\\u5730\\u6240\\u6709\\u6743\\u4eba\\u652f\\u4ed8\\u5b85\\u57fa\\u5730\\u4f7f\\u7528\\u8d39\\u3002\\n\\n#\",\n",
      "        0.6033260822296143\n",
      "    ],\n",
      "    [\n",
      "        \"\\u7b2c\\u4e00\\u8282 \\u4e00\\u822c\\u89c4\\u5b9a\\n\\n**\\u7b2c\\u4e09\\u767e\\u4e5d\\u5341\\u4e5d\\u6761** \\u62c5\\u4fdd\\u7269\\u6743\\u4eba\\u5728\\u503a\\u52a1\\u4eba\\u4e0d\\u5c65\\u884c\\u5230\\u671f\\u503a\\u52a1\\u6216\\u8005\\u53d1\\u751f\\u5f53\\u4e8b\\u4eba\\u7ea6\\u5b9a\\u7684\\u5b9e\\u73b0\\u62c5\\u4fdd\\u7269\\u6743\\u7684\\u60c5\\u5f62\\uff0c\\u6709\\u6743\\u4f9d\\u7167\\u6cd5\\u5f8b\\u89c4\\u5b9a\\u4ee5\\u62c5\\u4fdd\\u8d22\\u4ea7\\u4f18\\u5148\\u53d7\\u507f\\u3002\\n\\n**\\u7b2c\\u56db\\u767e\\u6761** \\u62c5\\u4fdd\\u7269\\u6743\\u5305\\u62ec\\u62b5\\u62bc\\u6743\\u3001\\u8d28\\u6743\\u548c\\u7559\\u7f6e\\u6743\\u3002\\n\\n**\\u7b2c\\u56db\\u767e\\u96f6\\u4e00\\u6761** \\u8bbe\\u7acb\\u62c5\\u4fdd\\u7269\\u6743\\uff0c\\u5f53\\u4e8b\\u4eba\\u5e94\\u5f53\\u4f9d\\u7167\\u6cd5\\u5f8b\\u89c4\\u5b9a\\u529e\\u7406\\u767b\\u8bb0\\u3002\\n\\u672a\\u7ecf\\u767b\\u8bb0\\uff0c\\u4e0d\\u53d1\\u751f\\u7269\\u6743\\u6548\\u529b\\u3002\\n\\n**\\u7b2c\\u56db\\u767e\\u96f6\\u4e8c\\u6761** \\u6cd5\\u5f8b\\u3001\\u884c\\u653f\\u6cd5\\u89c4\\u5bf9\\u62c5\\u4fdd\\u7269\\u6743\\u6709\\u7279\\u522b\\u89c4\\u5b9a\\u7684\\uff0c\\u4f9d\\u7167\\u5176\\u89c4\\u5b9a\\u3002\\n\\n**\\u7b2c\\u56db\\u767e\\u96f6\\u4e09\\u6761** \\u62c5\\u4fdd\\u7269\\u6743\\u4eba\\u5728\\u503a\\u52a1\\u4eba\\u4e0d\\u5c65\\u884c\\u5230\\u671f\\u503a\\u52a1\\u6216\\u8005\\u53d1\\u751f\\u5f53\\u4e8b\\u4eba\\u7ea6\\u5b9a\\u7684\\u5b9e\\u73b0\\u62c5\\u4fdd\\u7269\\u6743\\u7684\\u60c5\\u5f62\\uff0c\\u6709\\u6743\\u4f9d\\u7167\\u6cd5\\u5f8b\\u89c4\\u5b9a\\u4ee5\\u62c5\\u4fdd\\u8d22\\u4ea7\\u4f18\\u5148\\u53d7\\u507f\\u3002\\n\\n**\\u7b2c\\u56db\\u767e\\u96f6\\u56db\\u6761** \\u62c5\\u4fdd\\u7269\\u6743\\u6240\\u62c5\\u4fdd\\u7684\\u503a\\u6743\\u7684\\u8303\\u56f4\\uff0c\\u5305\\u62ec\\u4e3b\\u503a\\u6743\\u53ca\\u5176\\u5229\\u606f\\u3001\\u8fdd\\u7ea6\\u91d1\\u3001\\u635f\\u5bb3\\u8d54\\u507f\\u91d1\\u548c\\u5b9e\\u73b0\\u62c5\\u4fdd\\u7269\\u6743\\u7684\\u8d39\\u7528\\u3002\\n\\u5f53\\u4e8b\\u4eba\\u53e6\\u6709\\u7ea6\\u5b9a\\u7684\\uff0c\\u4f9d\\u7167\\u5176\\u7ea6\\u5b9a\\u3002\\n\\n**\\u7b2c\\u56db\\u767e\\u96f6\\u4e94\\u6761** \\u503a\\u52a1\\u4eba\\u5c65\\u884c\\u503a\\u52a1\\u6216\\u8005\\u62c5\\u4fdd\\u7269\\u6743\\u6d88\\u706d\\u7684\\uff0c\\u62c5\\u4fdd\\u7269\\u6743\\u6d88\\u706d\\u3002\\n\\n**\\u7b2c\\u56db\\u767e\\u96f6\\u516d\\u6761** \\u6cd5\\u5f8b\\u3001\\u884c\\u653f\\u6cd5\\u89c4\\u5bf9\\u62c5\\u4fdd\\u7269\\u6743\\u6709\\u7279\\u522b\\u89c4\\u5b9a\\u7684\\uff0c\\u4f9d\\u7167\\u5176\\u89c4\\u5b9a\\u3002\\n\\n**\\u7b2c\\u56db\\u767e\\u96f6\\u4e03\\u6761** \\u62c5\\u4fdd\\u7269\\u6743\\u4eba\\u6709\\u6743\\u5bf9\\u62c5\\u4fdd\\u8d22\\u4ea7\\u7684\\u5b73\\u606f\\u4f18\\u5148\\u53d7\\u507f\\u3002\\n\\u5f53\\u4e8b\\u4eba\\u53e6\\u6709\\u7ea6\\u5b9a\\u7684\\uff0c\\u4f9d\\u7167\\u5176\\u7ea6\\u5b9a\\u3002\\n\\n**\\u7b2c\\u56db\\u767e\\u96f6\\u516b\\u6761** \\u62c5\\u4fdd\\u7269\\u6743\\u6d88\\u706d\\u7684\\uff0c\\u767b\\u8bb0\\u673a\\u6784\\u5e94\\u5f53\\u4f9d\\u6cd5\\u529e\\u7406\\u6ce8\\u9500\\u767b\\u8bb0\\u3002\\n\\n#\",\n",
      "        0.59760582447052\n",
      "    ]\n",
      "]\n",
      "二、权利质权\n",
      "\n",
      "**第四百四十九条** 可以出质的权利包括：\n",
      "（一）汇票、本票、支票；\n",
      "（二）债券、存款单；\n",
      "（三）仓单、提单；\n",
      "（四）可以转让的基金份额、股权；\n",
      "（五）可以转让的注册商标专用权、专利权、著作权等知识产权中的财产权；\n",
      "（六）应收账款；\n",
      "（七）法律、行政法规规定可以出质的其他财产权利。\n",
      "\n",
      "**第四百五十条** 以汇票、本票、支票、债券、存款单、仓单、提单出质的，当事人应当订立书面合同。质权自权利凭证交付之日起设立。\n",
      "\n",
      "**第四百五十一条** 以记名股票出质的，当事人应当订立书面合同。质权自股票交付之日起设立。\n",
      "以未上市公司股权出质的，适用公司法有关股权转让的规定。\n",
      "\n",
      "**第四百五十二条** 以可以转让的基金份额、股权出质的，当事人应当订立书面合同。质权自基金份额、股权登记于证券登记结算机构或者公司章程载明的股权登记簿时设立。\n",
      "以未上市公司股权出质的，适用公司法有关股权转让的规定。\n",
      "\n",
      "**第四百五十三条** 以可以转让的注册商标专用权、专利权、著作权等知识产权中的财产权出质的，当事人应当订立书面合同。质权自权利质押登记于相关部门时设立。\n",
      "\n",
      "**第四百五十四条** 以应收账款出质的，当事人应当订立书面合同。质权自应收账款质押登记于中国人民银行征信中心时设立。\n",
      "\n",
      "**第四百五十五条** 以法律、行政法规规定可以出质的其他财产权利出质的，依照法律、行政法规的规定。\n",
      "\n",
      "**第四百五十六条** 权利质权除适用本节规定外，参照适用本章动产质权的有关规定。\n",
      "\n",
      "#\n",
      "第一节 一般规定\n",
      "\n",
      "**第三百五十三条** 用益物权人对他人所有的不动产或者动产，依法享有占有、使用和收益的权利。\n",
      "\n",
      "**第三百五十四条** 设立用益物权，当事人应当依照法律规定办理登记。\n",
      "未经登记，不发生物权效力。\n",
      "\n",
      "**第三百五十五条** 用益物权人行使权利，不得损害所有权人的合法权益。\n",
      "用益物权人不得转让、出租、担保其用益物权。法律另有规定或者当事人另有约定的除外。\n",
      "\n",
      "**第三百五十六条** 用益物权消灭的，登记机构应当依法办理注销登记。\n",
      "\n",
      "**第三百五十七条** 用益物权可以由当事人约定其内容。\n",
      "法律、行政法规对用益物权有特别规定的，依照其规定。\n",
      "\n",
      "#\n",
      "第四节 宅基地使用权\n",
      "\n",
      "**第三百七十七条** 宅基地使用权人依法对集体所有的土地和国家所有由集体经济组织分配给个人的土地，享有占有、使用和收益的权利，有权在宅基地上建造房屋及其附属设施。\n",
      "\n",
      "**第三百七十八条** 宅基地使用权的设立、行使和转让，适用法律、法规的规定。\n",
      "\n",
      "**第三百七十九条** 宅基地使用权人依法享有宅基地上的房屋及其附属设施的所有权。\n",
      "宅基地使用权人有权在宅基地上建造房屋及其附属设施。\n",
      "\n",
      "**第三百八十条** 宅基地使用权可以转让、互换、继承。\n",
      "转让、互换宅基地使用权的，应当依照法律规定办理登记。\n",
      "\n",
      "**第三百八十一条** 宅基地使用权消灭的，登记机构应当依法办理注销登记。\n",
      "宅基地使用权人应当依照法律规定，向土地所有权人支付宅基地使用费。\n",
      "\n",
      "#\n",
      "第一节 一般规定\n",
      "\n",
      "**第三百九十九条** 担保物权人在债务人不履行到期债务或者发生当事人约定的实现担保物权的情形，有权依照法律规定以担保财产优先受偿。\n",
      "\n",
      "**第四百条** 担保物权包括抵押权、质权和留置权。\n",
      "\n",
      "**第四百零一条** 设立担保物权，当事人应当依照法律规定办理登记。\n",
      "未经登记，不发生物权效力。\n",
      "\n",
      "**第四百零二条** 法律、行政法规对担保物权有特别规定的，依照其规定。\n",
      "\n",
      "**第四百零三条** 担保物权人在债务人不履行到期债务或者发生当事人约定的实现担保物权的情形，有权依照法律规定以担保财产优先受偿。\n",
      "\n",
      "**第四百零四条** 担保物权所担保的债权的范围，包括主债权及其利息、违约金、损害赔偿金和实现担保物权的费用。\n",
      "当事人另有约定的，依照其约定。\n",
      "\n",
      "**第四百零五条** 债务人履行债务或者担保物权消灭的，担保物权消灭。\n",
      "\n",
      "**第四百零六条** 法律、行政法规对担保物权有特别规定的，依照其规定。\n",
      "\n",
      "**第四百零七条** 担保物权人有权对担保财产的孳息优先受偿。\n",
      "当事人另有约定的，依照其约定。\n",
      "\n",
      "**第四百零八条** 担保物权消灭的，登记机构应当依法办理注销登记。\n",
      "\n",
      "#\n",
      "1757........................\n",
      "根据提供的上下文片段，其中并未包含关于\"第三百二十五条\"的相关内容。当前上下文主要涉及以下法律条款：\n",
      "\n",
      "1. 权利质权（第四百四十九条至第四百五十六条）\n",
      "2. 用益物权的一般规定（第三百五十三条至第三百五十七条）\n",
      "3. 宅基地使用权（第三百七十七条至第三百八十一条）\n",
      "4. 担保物权的一般规定（第三百九十九条至第四百零八条）\n",
      "\n",
      "因此，无法从给定的上下文中找到关于\"第三百二十五条\"的具体内容。\n"
     ]
    }
   ],
   "source": [
    "from pymilvus import model as milvus_model\n",
    "\n",
    "embedding_model2 = milvus_model.DefaultEmbeddingFunction()\n",
    "\n",
    "from pymilvus import MilvusClient\n",
    "\n",
    "milvus_client2 = MilvusClient(uri=\"./milvus_demo2.db\")\n",
    "\n",
    "collection_name2 = \"my_rag_collection2\"\n",
    "\n",
    "if milvus_client2.has_collection(collection_name2):\n",
    "    milvus_client2.drop_collection(collection_name2)\n",
    "\n",
    "milvus_client2.create_collection(\n",
    "    collection_name=collection_name2,\n",
    "    dimension=768,\n",
    "    metric_type=\"IP\",  # 内积距离\n",
    "    consistency_level=\"Strong\",  \n",
    ")\n",
    "\n",
    "# 插入数据\n",
    "from tqdm import tqdm\n",
    "\n",
    "data2 = []\n",
    "\n",
    "doc_embeddings2 = embedding_model2.encode_documents(text_lines2)\n",
    "\n",
    "data2.extend(\n",
    "    {\"id\": i, \"vector\": doc_embeddings2[i], \"text\": line}\n",
    "    for i, line in enumerate(tqdm(text_lines2, desc=\"Creating embeddings2\"))\n",
    ")\n",
    "milvus_client2.insert(collection_name=collection_name2, data=data2)\n",
    "\n",
    "question2 = \"第三百二十五条内容是？\"\n",
    "\n",
    "search_res2 = milvus_client2.search(\n",
    "    collection_name=collection_name2,\n",
    "    data=embedding_model2.encode_queries(\n",
    "        [question2]\n",
    "    ),  # 将问题转换为嵌入向量\n",
    "    limit=4,  # 返回前3个结果\n",
    "    search_params={\"metric_type\": \"IP\", \"params\": {}},  # 内积距离\n",
    "    output_fields=[\"text\"],  # 返回 text 字段\n",
    ")\n",
    "\n",
    "import json\n",
    "\n",
    "retrieved_lines_with_distances2 = [\n",
    "    (res[\"entity\"][\"text\"], res[\"distance\"]) for res in search_res2[0]\n",
    "]\n",
    "print(json.dumps(retrieved_lines_with_distances2, indent=4))\n",
    "\n",
    "context2 = \"\\n\".join(\n",
    "    [line_with_distance[0] for line_with_distance in retrieved_lines_with_distances2]\n",
    ")\n",
    "\n",
    "print(context2)\n",
    "print(f\"{len(context2)}........................\")\n",
    "\n",
    "SYSTEM_PROMPT2 = \"\"\"\n",
    "Human: 你是一个 AI 助手。你能够从提供的上下文段落片段中找到问题的答案。\n",
    "\"\"\"\n",
    "USER_PROMPT2 = f\"\"\"\n",
    "请使用以下用 <context> 标签括起来的信息片段来回答用 <question> 标签括起来的问题。\n",
    "<context>\n",
    "{context2}\n",
    "</context>\n",
    "<question>\n",
    "{question2}\n",
    "</question>\n",
    "\"\"\"\n",
    "\n",
    "from openai import OpenAI\n",
    "import os\n",
    "\n",
    "deepseek_client2 = OpenAI(\n",
    "    api_key=os.getenv(\"DEEPSEEK_API_KEY\"),\n",
    "    base_url=\"https://api.deepseek.com/v1\",  # DeepSeek API 的基地址\n",
    ")\n",
    "\n",
    "response2 = deepseek_client2.chat.completions.create(\n",
    "    model=\"deepseek-chat\",\n",
    "    messages=[\n",
    "        {\"role\": \"system\", \"content\": SYSTEM_PROMPT2},\n",
    "        {\"role\": \"user\", \"content\": USER_PROMPT2},\n",
    "    ],\n",
    ")\n",
    "print(response2.choices[0].message.content)"
   ]
  }
 ],
 "metadata": {
  "kernelspec": {
   "display_name": "deepseek",
   "language": "python",
   "name": "python3"
  },
  "language_info": {
   "codemirror_mode": {
    "name": "ipython",
    "version": 3
   },
   "file_extension": ".py",
   "mimetype": "text/x-python",
   "name": "python",
   "nbconvert_exporter": "python",
   "pygments_lexer": "ipython3",
   "version": "3.13.4"
  }
 },
 "nbformat": 4,
 "nbformat_minor": 5
}
