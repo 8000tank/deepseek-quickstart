{
 "cells": [
  {
   "cell_type": "markdown",
   "id": "20549885",
   "metadata": {},
   "source": [
    "# 使用 Milvus 和 DeepSeek 构建 RAG\n",
    "\n",
    "DeepSeek 帮助开发者使用高性能语言模型构建和扩展 AI 应用。它提供高效的推理、灵活的 API 以及先进的专家混合 (MoE) 架构，用于强大的推理和检索任务。\n",
    "\n",
    "在本教程中，我们将展示如何使用 Milvus 和 DeepSeek 构建一个检索增强生成 (RAG) 管道。"
   ]
  },
  {
   "cell_type": "markdown",
   "id": "7394c701",
   "metadata": {},
   "source": [
    "## 准备工作"
   ]
  },
  {
   "cell_type": "markdown",
   "id": "89103a1e",
   "metadata": {},
   "source": [
    "### 依赖与环境"
   ]
  },
  {
   "cell_type": "code",
   "execution_count": null,
   "id": "9c18d7b4",
   "metadata": {},
   "outputs": [],
   "source": [
    "!pip install \"pymilvus[model]==2.5.10\" openai==1.82.0 requests==2.32.3 tqdm==4.67.1 torch==2.7.0"
   ]
  },
  {
   "cell_type": "markdown",
   "id": "1b3c0999-d670-41a9-afbd-d8a020fe1631",
   "metadata": {},
   "source": [
    "---"
   ]
  },
  {
   "cell_type": "code",
   "execution_count": 1,
   "id": "375ad823",
   "metadata": {},
   "outputs": [],
   "source": [
    "import os\n",
    "\n",
    "# 从环境变量获取 DeepSeek API Key\n",
    "api_key = os.getenv(\"DEEPSEEK_API_KEY\")"
   ]
  },
  {
   "cell_type": "markdown",
   "id": "db44bb26",
   "metadata": {},
   "source": [
    "### 准备数据"
   ]
  },
  {
   "cell_type": "markdown",
   "id": "25f92a95",
   "metadata": {},
   "source": [
    "我们使用 Milvus 文档 2.4.x 中的 FAQ 页面作为我们 RAG 中的私有知识库，这是一个简单 RAG 管道的良好数据源。"
   ]
  },
  {
   "cell_type": "markdown",
   "id": "a1a8b9e2",
   "metadata": {},
   "source": [
    "下载 zip 文件并将文档解压到 `milvus_docs` 文件夹。\n",
    "\n",
    "**建议在命令行执行下面命令**"
   ]
  },
  {
   "cell_type": "code",
   "execution_count": 18,
   "id": "a81fa031",
   "metadata": {},
   "outputs": [],
   "source": [
    "#!wget https://github.com/milvus-io/milvus-docs/releases/download/v2.4.6-preview/milvus_docs_2.4.x_en.zip\n",
    "#!unzip -q milvus_docs_2.4.x_en.zip -d milvus_docs"
   ]
  },
  {
   "cell_type": "markdown",
   "id": "d1198466",
   "metadata": {},
   "source": [
    "我们从 `milvus_docs/en/faq` 文件夹加载所有 markdown 文件。对于每个文档，我们简单地使用 \"# \" 来分割文件中的内容，这样可以大致分离出 markdown 文件中每个主要部分的内容。"
   ]
  },
  {
   "cell_type": "code",
   "execution_count": 10,
   "id": "c9035a5f",
   "metadata": {},
   "outputs": [],
   "source": [
    "from glob import glob\n",
    "\n",
    "text_lines = []\n",
    "\n",
    "for file_path in glob(\"milvus_docs/en/faq/*.md\", recursive=True):\n",
    "    with open(file_path, \"r\") as file:\n",
    "        file_text = file.read()\n",
    "\n",
    "    text_lines += file_text.split(\"# \")"
   ]
  },
  {
   "cell_type": "code",
   "execution_count": 11,
   "id": "01b73e74-ee7d-4daf-b7db-1c7a10bfc0bf",
   "metadata": {},
   "outputs": [
    {
     "data": {
      "text/plain": [
       "72"
      ]
     },
     "execution_count": 11,
     "metadata": {},
     "output_type": "execute_result"
    }
   ],
   "source": [
    "len(text_lines)"
   ]
  },
  {
   "cell_type": "markdown",
   "id": "4cc2a0b8",
   "metadata": {},
   "source": [
    "### 准备 LLM 和 Embedding 模型"
   ]
  },
  {
   "cell_type": "markdown",
   "id": "19eaff7a",
   "metadata": {},
   "source": [
    "DeepSeek 支持 OpenAI 风格的 API，您可以使用相同的 API 进行微小调整来调用 LLM。"
   ]
  },
  {
   "cell_type": "code",
   "execution_count": 12,
   "id": "b994eb47",
   "metadata": {},
   "outputs": [],
   "source": [
    "from openai import OpenAI\n",
    "\n",
    "deepseek_client = OpenAI(\n",
    "    api_key=api_key,\n",
    "    base_url=\"https://api.deepseek.com/v1\",  # DeepSeek API 的基地址\n",
    ")"
   ]
  },
  {
   "cell_type": "markdown",
   "id": "1cc5a5e2",
   "metadata": {},
   "source": [
    "定义一个 embedding 模型，使用 `milvus_model` 来生成文本嵌入。我们以 `DefaultEmbeddingFunction` 模型为例，这是一个预训练的轻量级嵌入模型。"
   ]
  },
  {
   "cell_type": "code",
   "execution_count": 13,
   "id": "3a94242a",
   "metadata": {},
   "outputs": [
    {
     "name": "stderr",
     "output_type": "stream",
     "text": [
      "/home/wy/miniconda3/envs/deepseek/lib/python3.13/site-packages/tqdm/auto.py:21: TqdmWarning: IProgress not found. Please update jupyter and ipywidgets. See https://ipywidgets.readthedocs.io/en/stable/user_install.html\n",
      "  from .autonotebook import tqdm as notebook_tqdm\n"
     ]
    }
   ],
   "source": [
    "from pymilvus import model as milvus_model\n",
    "\n",
    "embedding_model = milvus_model.DefaultEmbeddingFunction()"
   ]
  },
  {
   "cell_type": "markdown",
   "id": "93fb1696",
   "metadata": {},
   "source": [
    "生成一个测试嵌入并打印其维度和前几个元素。"
   ]
  },
  {
   "cell_type": "code",
   "execution_count": 14,
   "id": "88a27567",
   "metadata": {},
   "outputs": [
    {
     "name": "stdout",
     "output_type": "stream",
     "text": [
      "768\n",
      "[-0.04836059  0.07163021 -0.01130063 -0.03789341 -0.03320651 -0.01318453\n",
      " -0.03041721 -0.02269495 -0.02317858 -0.00426026]\n"
     ]
    }
   ],
   "source": [
    "test_embedding = embedding_model.encode_queries([\"This is a test\"])[0]\n",
    "embedding_dim = len(test_embedding)\n",
    "print(embedding_dim)\n",
    "print(test_embedding[:10])"
   ]
  },
  {
   "cell_type": "code",
   "execution_count": 15,
   "id": "f7683f3a-d9e4-4c8e-9a66-c341911bef6b",
   "metadata": {},
   "outputs": [
    {
     "name": "stdout",
     "output_type": "stream",
     "text": [
      "[-0.02752976  0.0608853   0.00388525 -0.00215193 -0.02774976 -0.0118618\n",
      " -0.04020916 -0.06023417 -0.03813156  0.0100272 ]\n"
     ]
    }
   ],
   "source": [
    "test_embedding_0 = embedding_model.encode_queries([\"That is a test\"])[0]\n",
    "print(test_embedding_0[:10])"
   ]
  },
  {
   "cell_type": "markdown",
   "id": "5a778887",
   "metadata": {},
   "source": [
    "## 将数据加载到 Milvus"
   ]
  },
  {
   "cell_type": "markdown",
   "id": "02b23a24",
   "metadata": {},
   "source": [
    "### 创建 Collection"
   ]
  },
  {
   "cell_type": "code",
   "execution_count": 16,
   "id": "95e84b8c",
   "metadata": {},
   "outputs": [],
   "source": [
    "from pymilvus import MilvusClient\n",
    "\n",
    "milvus_client = MilvusClient(uri=\"./milvus_demo.db\")\n",
    "\n",
    "collection_name = \"my_rag_collection\""
   ]
  },
  {
   "cell_type": "markdown",
   "id": "68648561",
   "metadata": {},
   "source": [
    "关于 `MilvusClient` 的参数：\n",
    "\n",
    "*   将 `uri` 设置为本地文件，例如 `./milvus.db`，是最方便的方法，因为它会自动利用 Milvus Lite 将所有数据存储在此文件中。\n",
    "*   如果您有大规模数据，可以在 Docker 或 Kubernetes 上设置性能更高的 Milvus 服务器。在此设置中，请使用服务器 URI，例如 `http://localhost:19530`，作为您的 `uri`。\n",
    "*   如果您想使用 Zilliz Cloud（Milvus 的完全托管云服务），请调整 `uri` 和 `token`，它们对应 Zilliz Cloud 中的 Public Endpoint 和 Api key。"
   ]
  },
  {
   "cell_type": "markdown",
   "id": "5ce1bf3e",
   "metadata": {},
   "source": [
    "检查 collection 是否已存在，如果存在则删除它。"
   ]
  },
  {
   "cell_type": "code",
   "execution_count": 17,
   "id": "aee85c08",
   "metadata": {},
   "outputs": [],
   "source": [
    "if milvus_client.has_collection(collection_name):\n",
    "    milvus_client.drop_collection(collection_name)"
   ]
  },
  {
   "cell_type": "markdown",
   "id": "73eb379f",
   "metadata": {},
   "source": [
    "创建一个具有指定参数的新 collection。\n",
    "\n",
    "如果我们不指定任何字段信息，Milvus 将自动创建一个默认的 `id` 字段作为主键，以及一个 `vector` 字段来存储向量数据。一个保留的 JSON 字段用于存储非 schema 定义的字段及其值。\n",
    "\n",
    "`metric_type` (距离度量类型):\n",
    "     作用：定义如何计算向量之间的相似程度。\n",
    "     例如：`IP` (内积) - 值越大通常越相似；`L2` (欧氏距离) - 值越小越相似；`COSINE` (余弦相似度) - 通常转换为距离，值越小越相似。\n",
    "     选择依据：根据你的嵌入模型的特性和期望的相似性定义来选择。\n",
    "\n",
    " `consistency_level` (一致性级别):\n",
    "     作用：定义数据写入后，读取操作能多快看到这些新数据。\n",
    "     例如：\n",
    "         `Strong` (强一致性): 总是读到最新数据，可能稍慢。\n",
    "         `Bounded` (有界过期): 可能读到几秒内旧数据，性能较好 (默认)。\n",
    "         `Session` (会话一致性): 自己写入的自己能立刻读到。\n",
    "         `Eventually` (最终一致性): 最终会读到新数据，但没时间保证，性能最好。\n",
    "     选择依据：在数据实时性要求和系统性能之间做权衡。\n",
    "\n",
    "简单来说：\n",
    " `metric_type`：怎么算相似。\n",
    " `consistency_level`：新数据多久能被读到。"
   ]
  },
  {
   "cell_type": "code",
   "execution_count": 19,
   "id": "bd0b2df8",
   "metadata": {},
   "outputs": [],
   "source": [
    "milvus_client.create_collection(\n",
    "    collection_name=collection_name,\n",
    "    dimension=embedding_dim,\n",
    "    metric_type=\"IP\",  # 内积距离\n",
    "    consistency_level=\"Strong\",  # 支持的值为 (`\"Strong\"`, `\"Session\"`, `\"Bounded\"`, `\"Eventually\"`)。更多详情请参见 https://milvus.io/docs/consistency.md#Consistency-Level。\n",
    ")"
   ]
  },
  {
   "cell_type": "markdown",
   "id": "9c15bafb",
   "metadata": {},
   "source": [
    "### 插入数据"
   ]
  },
  {
   "cell_type": "markdown",
   "id": "171d3b35",
   "metadata": {},
   "source": [
    "遍历文本行，创建嵌入，然后将数据插入 Milvus。\n",
    "\n",
    "这里有一个新字段 `text`，它是在 collection schema 中未定义的字段。它将自动添加到保留的 JSON 动态字段中，该字段在高级别上可以被视为普通字段。"
   ]
  },
  {
   "cell_type": "code",
   "execution_count": 42,
   "id": "ad077094",
   "metadata": {},
   "outputs": [
    {
     "name": "stderr",
     "output_type": "stream",
     "text": [
      "Creating embeddings: 100%|██████████| 72/72 [00:00<00:00, 159277.37it/s]\n"
     ]
    },
    {
     "data": {
      "text/plain": [
       "{'insert_count': 72, 'ids': [0, 1, 2, 3, 4, 5, 6, 7, 8, 9, 10, 11, 12, 13, 14, 15, 16, 17, 18, 19, 20, 21, 22, 23, 24, 25, 26, 27, 28, 29, 30, 31, 32, 33, 34, 35, 36, 37, 38, 39, 40, 41, 42, 43, 44, 45, 46, 47, 48, 49, 50, 51, 52, 53, 54, 55, 56, 57, 58, 59, 60, 61, 62, 63, 64, 65, 66, 67, 68, 69, 70, 71], 'cost': 0}"
      ]
     },
     "execution_count": 42,
     "metadata": {},
     "output_type": "execute_result"
    }
   ],
   "source": [
    "from tqdm import tqdm\n",
    "\n",
    "data = []\n",
    "\n",
    "doc_embeddings = embedding_model.encode_documents(text_lines)\n",
    "\n",
    "for i, line in enumerate(tqdm(text_lines, desc=\"Creating embeddings\")):\n",
    "    data.append({\"id\": i, \"vector\": doc_embeddings[i], \"text\": line})\n",
    "\n",
    "milvus_client.insert(collection_name=collection_name, data=data)"
   ]
  },
  {
   "cell_type": "markdown",
   "id": "bd971f6b",
   "metadata": {},
   "source": [
    "## 构建 RAG"
   ]
  },
  {
   "cell_type": "markdown",
   "id": "534dc076",
   "metadata": {},
   "source": [
    "### 检索查询数据"
   ]
  },
  {
   "cell_type": "markdown",
   "id": "5a6fd7e7",
   "metadata": {},
   "source": [
    "我们指定一个关于 Milvus 的常见问题。"
   ]
  },
  {
   "cell_type": "code",
   "execution_count": 31,
   "id": "6e2f5c6a",
   "metadata": {},
   "outputs": [],
   "source": [
    "question = \"why we should use milvus?\""
   ]
  },
  {
   "cell_type": "markdown",
   "id": "52401a38",
   "metadata": {},
   "source": [
    "在 collection 中搜索该问题，并检索语义上最匹配的前3个结果。"
   ]
  },
  {
   "cell_type": "code",
   "execution_count": 32,
   "id": "0dd4cbac",
   "metadata": {},
   "outputs": [],
   "source": [
    "search_res = milvus_client.search(\n",
    "    collection_name=collection_name,\n",
    "    data=embedding_model.encode_queries(\n",
    "        [question]\n",
    "    ),  # 将问题转换为嵌入向量\n",
    "    limit=3,  # 返回前3个结果\n",
    "    search_params={\"metric_type\": \"IP\", \"params\": {}},  # 内积距离\n",
    "    output_fields=[\"text\"],  # 返回 text 字段\n",
    ")"
   ]
  },
  {
   "cell_type": "markdown",
   "id": "ffcce135",
   "metadata": {},
   "source": [
    "让我们看一下查询的搜索结果"
   ]
  },
  {
   "cell_type": "code",
   "execution_count": 33,
   "id": "6a7f6eb3",
   "metadata": {},
   "outputs": [
    {
     "name": "stdout",
     "output_type": "stream",
     "text": [
      "[\n",
      "    [\n",
      "        \"Does Milvus support message engines other than Pulsar?\\n\\nYes. Kafka is supported in Milvus 2.1.0.\\n\\n###\",\n",
      "        0.5013245344161987\n",
      "    ],\n",
      "    [\n",
      "        \"How does Milvus handle vector data types and precision?\\n\\nMilvus supports Binary, Float32, Float16, and BFloat16 vector types.\\n\\n- Binary vectors: Store binary data as sequences of 0s and 1s, used in image processing and information retrieval.\\n- Float32 vectors: Default storage with a precision of about 7 decimal digits. Even Float64 values are stored with Float32 precision, leading to potential precision loss upon retrieval.\\n- Float16 and BFloat16 vectors: Offer reduced precision and memory usage. Float16 is suitable for applications with limited bandwidth and storage, while BFloat16 balances range and efficiency, commonly used in deep learning to reduce computational requirements without significantly impacting accuracy.\\n\\n###\",\n",
      "        0.4910174012184143\n",
      "    ],\n",
      "    [\n",
      "        \"What data types does Milvus support on the primary key field?\\n\\nIn current release, Milvus supports both INT64 and string.\\n\\n###\",\n",
      "        0.47190219163894653\n",
      "    ]\n",
      "]\n"
     ]
    }
   ],
   "source": [
    "import json\n",
    "\n",
    "retrieved_lines_with_distances = [\n",
    "    (res[\"entity\"][\"text\"], res[\"distance\"]) for res in search_res[0]\n",
    "]\n",
    "print(json.dumps(retrieved_lines_with_distances, indent=4))"
   ]
  },
  {
   "cell_type": "markdown",
   "id": "ccd4c186",
   "metadata": {},
   "source": [
    "### 使用 LLM 获取 RAG 响应"
   ]
  },
  {
   "cell_type": "markdown",
   "id": "4cd1ae3a",
   "metadata": {},
   "source": [
    "将检索到的文档转换为字符串格式。"
   ]
  },
  {
   "cell_type": "code",
   "execution_count": 34,
   "id": "0676448f",
   "metadata": {},
   "outputs": [],
   "source": [
    "context = \"\\n\".join(\n",
    "    [line_with_distance[0] for line_with_distance in retrieved_lines_with_distances]\n",
    ")"
   ]
  },
  {
   "cell_type": "code",
   "execution_count": 35,
   "id": "107df42a-b3f7-48a8-b66b-fc82fe3ec174",
   "metadata": {},
   "outputs": [
    {
     "data": {
      "text/plain": [
       "'Does Milvus support message engines other than Pulsar?\\n\\nYes. Kafka is supported in Milvus 2.1.0.\\n\\n###\\nHow does Milvus handle vector data types and precision?\\n\\nMilvus supports Binary, Float32, Float16, and BFloat16 vector types.\\n\\n- Binary vectors: Store binary data as sequences of 0s and 1s, used in image processing and information retrieval.\\n- Float32 vectors: Default storage with a precision of about 7 decimal digits. Even Float64 values are stored with Float32 precision, leading to potential precision loss upon retrieval.\\n- Float16 and BFloat16 vectors: Offer reduced precision and memory usage. Float16 is suitable for applications with limited bandwidth and storage, while BFloat16 balances range and efficiency, commonly used in deep learning to reduce computational requirements without significantly impacting accuracy.\\n\\n###\\nWhat data types does Milvus support on the primary key field?\\n\\nIn current release, Milvus supports both INT64 and string.\\n\\n###'"
      ]
     },
     "execution_count": 35,
     "metadata": {},
     "output_type": "execute_result"
    }
   ],
   "source": [
    "context"
   ]
  },
  {
   "cell_type": "code",
   "execution_count": 36,
   "id": "19998758-7f98-4cb8-8789-625fcfaad00e",
   "metadata": {},
   "outputs": [
    {
     "data": {
      "text/plain": [
       "'why we should use milvus?'"
      ]
     },
     "execution_count": 36,
     "metadata": {},
     "output_type": "execute_result"
    }
   ],
   "source": [
    "question"
   ]
  },
  {
   "cell_type": "markdown",
   "id": "7ad25756",
   "metadata": {},
   "source": [
    "为语言模型定义系统和用户提示。此提示是使用从 Milvus 检索到的文档组装而成的。"
   ]
  },
  {
   "cell_type": "code",
   "execution_count": 49,
   "id": "b655f6f3",
   "metadata": {},
   "outputs": [],
   "source": [
    "SYSTEM_PROMPT = \"\"\"\n",
    "Human: 你是一个 AI 助手。你能够从提供的上下文段落片段中找到问题的答案。\n",
    "\"\"\"\n",
    "USER_PROMPT = f\"\"\"\n",
    "请使用以下用 <context> 标签括起来的信息片段来回答用 <question> 标签括起来的问题。最后追加原始回答的中文翻译，并用 <translated>和</translated> 标签标注。\n",
    "<context>\n",
    "{context}\n",
    "</context>\n",
    "<question>\n",
    "{question}\n",
    "</question>\n",
    "<translated>\n",
    "</translated>\n",
    "\"\"\""
   ]
  },
  {
   "cell_type": "code",
   "execution_count": 40,
   "id": "97089c31-f85c-47a9-8498-78520513bc67",
   "metadata": {},
   "outputs": [
    {
     "data": {
      "text/plain": [
       "'\\n请使用以下用 <context> 标签括起来的信息片段来回答用 <question> 标签括起来的问题。最后追加原始回答的中文翻译，并用 <translated>和</translated> 标签标注。\\n<context>\\nDoes Milvus support message engines other than Pulsar?\\n\\nYes. Kafka is supported in Milvus 2.1.0.\\n\\n###\\nHow does Milvus handle vector data types and precision?\\n\\nMilvus supports Binary, Float32, Float16, and BFloat16 vector types.\\n\\n- Binary vectors: Store binary data as sequences of 0s and 1s, used in image processing and information retrieval.\\n- Float32 vectors: Default storage with a precision of about 7 decimal digits. Even Float64 values are stored with Float32 precision, leading to potential precision loss upon retrieval.\\n- Float16 and BFloat16 vectors: Offer reduced precision and memory usage. Float16 is suitable for applications with limited bandwidth and storage, while BFloat16 balances range and efficiency, commonly used in deep learning to reduce computational requirements without significantly impacting accuracy.\\n\\n###\\nWhat data types does Milvus support on the primary key field?\\n\\nIn current release, Milvus supports both INT64 and string.\\n\\n###\\n</context>\\n<question>\\nwhy we should use milvus?\\n</question>\\n<translated>\\n</translated>\\n'"
      ]
     },
     "execution_count": 40,
     "metadata": {},
     "output_type": "execute_result"
    }
   ],
   "source": [
    "USER_PROMPT"
   ]
  },
  {
   "cell_type": "markdown",
   "id": "184b457f",
   "metadata": {},
   "source": [
    "使用 DeepSeek 提供的 `deepseek-chat` 模型根据提示生成响应。"
   ]
  },
  {
   "cell_type": "code",
   "execution_count": 41,
   "id": "638a7561",
   "metadata": {},
   "outputs": [
    {
     "name": "stdout",
     "output_type": "stream",
     "text": [
      "Milvus is a powerful vector database that offers several advantages, making it a great choice for handling vector data:\n",
      "\n",
      "1. **Flexible Message Engine Support**: Milvus supports multiple message engines like Pulsar and Kafka (from version 2.1.0), providing flexibility in data streaming and processing.\n",
      "\n",
      "2. **Diverse Vector Data Type Support**: It accommodates various vector types, including Binary, Float32, Float16, and BFloat16, catering to different precision and memory requirements. This makes it suitable for applications like image processing, information retrieval, and deep learning.\n",
      "\n",
      "3. **Efficient Storage and Retrieval**: Milvus optimizes storage and retrieval, even handling Float64 values with Float32 precision (with potential precision loss) to balance performance and accuracy.\n",
      "\n",
      "4. **Primary Key Flexibility**: It supports both INT64 and string types for primary keys, offering versatility in data organization and indexing.\n",
      "\n",
      "5. **Scalability and Performance**: Milvus is designed for high-performance vector search, making it ideal for large-scale AI and machine learning applications where efficient similarity search is crucial.\n",
      "\n",
      "Overall, Milvus is a robust solution for managing and searching high-dimensional vector data efficiently.\n",
      "\n",
      "<translated>\n",
      "Milvus 是一个强大的向量数据库，具有以下优势，使其成为处理向量数据的理想选择：\n",
      "\n",
      "1. **灵活的消息引擎支持**：Milvus 支持多种消息引擎，如 Pulsar 和 Kafka（从 2.1.0 版本开始），为数据流处理提供了灵活性。\n",
      "\n",
      "2. **多样化的向量数据类型支持**：它支持多种向量类型，包括 Binary、Float32、Float16 和 BFloat16，满足不同精度和内存需求。这使得它适用于图像处理、信息检索和深度学习等应用场景。\n",
      "\n",
      "3. **高效的存储与检索**：Milvus 优化了存储和检索性能，甚至能以 Float32 精度处理 Float64 值（可能损失部分精度），以平衡性能和准确性。\n",
      "\n",
      "4. **主键灵活性**：支持 INT64 和字符串类型的主键，为数据组织和索引提供了多样性。\n",
      "\n",
      "5. **可扩展性与高性能**：Milvus 专为高性能向量搜索设计，非常适合需要高效相似性搜索的大规模人工智能和机器学习应用。\n",
      "\n",
      "总之，Milvus 是高效管理和搜索高维向量数据的强大解决方案。\n",
      "</translated>\n"
     ]
    }
   ],
   "source": [
    "response = deepseek_client.chat.completions.create(\n",
    "    model=\"deepseek-chat\",\n",
    "    messages=[\n",
    "        {\"role\": \"system\", \"content\": SYSTEM_PROMPT},\n",
    "        {\"role\": \"user\", \"content\": USER_PROMPT},\n",
    "    ],\n",
    ")\n",
    "print(response.choices[0].message.content)"
   ]
  },
  {
   "cell_type": "code",
   "execution_count": null,
   "id": "50ce3b55-7daa-4727-95bd-3b00f6aa2b03",
   "metadata": {},
   "outputs": [],
   "source": []
  },
  {
   "cell_type": "code",
   "execution_count": 1,
   "id": "785607e5",
   "metadata": {},
   "outputs": [
    {
     "name": "stdout",
     "output_type": "stream",
     "text": [
      "387\n",
      "--- Segment 1 ---\n",
      "**第二百零四条**为了明确物的归属，充分发挥物的效用，保护权利人的合法权益，维护社会经济秩序，制定本编。\n",
      "--------------------\n",
      "--- Segment 2 ---\n",
      "**第二百零五条**本编调整因物的归属和利用产生的民事关系。\n",
      "--------------------\n",
      "--- Segment 3 ---\n",
      "**第二百零六条**国家坚持和完善社会主义公有制为主体、多种所有制经济共同发展的基本经济制度。\n",
      "国家巩固和发展公有制经济，鼓励、支持和引导非公有制经济的发展。\n",
      "国家实行社会主义市场经济，保障一切市场主体的平等法律地位和发展权利。\n",
      "--------------------\n",
      "--- Segment 4 ---\n",
      "**第二百零七条**国家、集体、私人的物权和其他权利人的物权受法律平等保护，任何组织或者个人不得侵犯。\n",
      "--------------------\n",
      "--- Segment 5 ---\n",
      "**第二百零八条**不动产权利的设立、变更、转让和消灭，应当依照法律规定登记。动产物权的设立和转让，应当依照法律规定交付。\n",
      "--------------------\n",
      "--- Segment 6 ---\n",
      "**第二百零九条**不动产物权的设立、变更、转让和消灭，经依法登记，发生效力；未经登记，不发生效力，但是法律另有规定的除外。\n",
      "依法属于国家所有的自然资源，所有权可以不登记。\n",
      "--------------------\n",
      "--- Segment 7 ---\n",
      "**第二百一十条**不动产登记，由不动产所在地的登记机构办理。\n",
      "国家对不动产实行统一登记制度。统一登记的范围、登记机构和登记办法，由法律、行政法规规定。\n",
      "--------------------\n",
      "--- Segment 8 ---\n",
      "**第二百一十一条**当事人申请登记，应当根据不同登记事项提供材料。\n",
      "申请登记材料以及登记事项相关信息，可以公开查询。\n",
      "--------------------\n",
      "--- Segment 9 ---\n",
      "**第二百一十二条**登记机构应当履行下列职责：\n",
      "（一）审查申请人提供的材料；\n",
      "（二）询问申请人；\n",
      "（三）如实、及时登记；\n",
      "（四）法律、行政法规规定的其他职责。\n",
      "申请登记的不动产存在尚未解决的权属争议的，登记机构应当不予登记，并书面告知申请人。\n",
      "--------------------\n",
      "--- Segment 10 ---\n",
      "**第二百一十三条**登记机构不得有下列行为：\n",
      "（一）要求对不动产进行评估；\n",
      "（二）以不动产登记为条件收取其他费用；\n",
      "（三）超出登记职责范围的其他行为。\n",
      "--------------------\n",
      "--- Segment 11 ---\n",
      "**第二百一十四条**不动产物权的设立、变更、转让和消灭，依照法律规定应当登记的，自记载于不动产登记簿时发生效力。\n",
      "--------------------\n",
      "--- Segment 12 ---\n",
      "**第二百一十五条**不动产登记簿由登记机构管理。\n",
      "不动产登记簿应当采用纸质形式或者电子形式。\n",
      "不动产登记簿采用电子形式的，应当备份。\n",
      "--------------------\n",
      "--- Segment 13 ---\n",
      "**第二百一十六条**不动产登记簿是物权归属和内容的根据。\n",
      "不动产登记簿记载的事项与不动产权属证书记载的事项不一致的，除有证据证明不动产登记簿确有错误外，以不动产登记簿为准。\n",
      "--------------------\n",
      "--- Segment 14 ---\n",
      "**第二百一十七条**不动产权属证书是权利人享有该不动产物权的证明。不动产权属证书记载的事项，应当与不动产登记簿一致；不一致的，除有证据证明不动产登记簿确有错误外，以不动产登记簿为准。\n",
      "--------------------\n",
      "--- Segment 15 ---\n",
      "**第二百一十八条**权利人、利害关系人可以申请查询、复制不动产登记资料，登记机构应当提供。\n",
      "--------------------\n",
      "--- Segment 16 ---\n",
      "**第二百一十九条**利害关系人可以申请查询不动产登记资料。申请查询的，登记机构应当提供。\n",
      "--------------------\n",
      "--- Segment 17 ---\n",
      "**第二百二十条**权利人、利害关系人认为不动产登记簿记载的事项错误的，可以申请更正登记。不动产登记簿记载的权利人书面同意或者有证据证明登记确有错误的，登记机构应当予以更正。\n",
      "不动产登记簿记载的权利人不同意更正的，利害关系人可以申请异议登记。登记机构予以异议登记的，申请人在异议登记之日起十五日内不提起诉讼的，异议登记失效。异议登记不当，造成权利人损害的，权利人可以请求损害赔偿。\n",
      "--------------------\n",
      "--- Segment 18 ---\n",
      "**第二百二十一条**当事人签订买卖房屋的协议或者签订其他不动产物权的协议，为保障将来实现物权，可以依照约定向登记机构申请预告登记。预告登记后，未经预告登记的权利人同意，处分该不动产的，不发生物权效力。\n",
      "预告登记后，债权消灭或者自能够进行不动产登记之日起九十日内未申请登记的，预告登记失效。\n",
      "--------------------\n",
      "--- Segment 19 ---\n",
      "**第二百二十二条**当事人提供虚假材料申请登记，给他人造成损害的，应当承担赔偿责任。\n",
      "因登记机构登记错误，给他人造成损害的，应当承担赔偿责任。登记机构赔偿后，可以向造成登记错误的人追偿。\n",
      "--------------------\n",
      "--- Segment 20 ---\n",
      "**第二百二十三条**动产物权的设立和转让，自交付时发生效力，但是法律另有规定的除外。\n",
      "--------------------\n"
     ]
    }
   ],
   "source": [
    "import re\n",
    "\n",
    "# 假设 mfd.md 就在当前目录下\n",
    "file_path = \"mfd.md\"\n",
    "with open(file_path, \"r\", encoding=\"utf-8\") as file: # 确保使用 utf-8 编码读取中文\n",
    "    file_text = file.read()\n",
    "\n",
    "text_lines2 = []\n",
    "\n",
    "# 定义一个正则表达式，用于匹配以“**XXX条**”开头的条文\n",
    "# 但是，最简单且适用于你当前文件的策略是直接匹配“**第”和“条**”\n",
    "split_pattern = r\"\\*\\*第[零一二三四五六七八九十百千万]+条\\*\\*|\\*\\*第\\d+条\\*\\*\"\n",
    "\n",
    "# 使用re.split进行分割，re.split会保留分隔符，所以我们需要一些后处理\n",
    "# re.split(pattern, string, flags=re.MULTILINE) 可以用来处理多行文本\n",
    "# re.split 会在匹配到的地方进行分割，并且把匹配到的内容（分隔符）也作为列表的一部分返回\n",
    "# 我们需要对返回的列表进行处理，将条文号与条文内容组合\n",
    "split_results = re.split(split_pattern, file_text)\n",
    "\n",
    "# 获取所有匹配的条文标题，以便后面组合\n",
    "article_titles = re.findall(split_pattern, file_text)\n",
    "\n",
    "# 重新组合文本，确保每个片段都以条文标题开头\n",
    "# 第一个 split_results[0] 是文件开头到第一个条文的内容，通常是空白或者不需要的引言\n",
    "# 从第二个元素开始，每个 split_results[i] 是一个条文的内容，\n",
    "# 并且 article_titles[i-1] 是对应的条文标题\n",
    "parsed_articles = []\n",
    "for i in range(len(article_titles)):\n",
    "    # 确保条文标题和内容正确拼接\n",
    "    # split_results 的长度会比 article_titles 的长度多1\n",
    "    # split_results[i+1] 是当前条文标题后的内容\n",
    "    article_content = article_titles[i] + split_results[i+1].strip()\n",
    "    parsed_articles.append(article_content.strip()) # 移除多余的空白符\n",
    "\n",
    "text_lines2 = parsed_articles\n",
    "print(len(text_lines2))\n",
    "\n",
    "# 打印前几个片段看效果\n",
    "for i, line in enumerate(text_lines2[:20]):\n",
    "    print(f\"--- Segment {i+1} ---\")\n",
    "    print(line)\n",
    "    print(\"-\" * 20)\n"
   ]
  },
  {
   "cell_type": "code",
   "execution_count": 6,
   "id": "033799ad",
   "metadata": {},
   "outputs": [
    {
     "name": "stderr",
     "output_type": "stream",
     "text": [
      "Creating embeddings2: 100%|██████████| 387/387 [00:00<00:00, 940982.98it/s]\n"
     ]
    },
    {
     "name": "stdout",
     "output_type": "stream",
     "text": [
      "[\n",
      "    [\n",
      "        \"**\\u7b2c\\u4e8c\\u767e\\u4e00\\u5341\\u4e94\\u6761**\\u4e0d\\u52a8\\u4ea7\\u767b\\u8bb0\\u7c3f\\u7531\\u767b\\u8bb0\\u673a\\u6784\\u7ba1\\u7406\\u3002\\n\\u4e0d\\u52a8\\u4ea7\\u767b\\u8bb0\\u7c3f\\u5e94\\u5f53\\u91c7\\u7528\\u7eb8\\u8d28\\u5f62\\u5f0f\\u6216\\u8005\\u7535\\u5b50\\u5f62\\u5f0f\\u3002\\n\\u4e0d\\u52a8\\u4ea7\\u767b\\u8bb0\\u7c3f\\u91c7\\u7528\\u7535\\u5b50\\u5f62\\u5f0f\\u7684\\uff0c\\u5e94\\u5f53\\u5907\\u4efd\\u3002\",\n",
      "        0.669501781463623\n",
      "    ],\n",
      "    [\n",
      "        \"**\\u7b2c\\u56db\\u767e\\u56db\\u5341\\u4e94\\u6761**\\u8d28\\u6743\\u4eba\\u6709\\u6743\\u5bf9\\u8d28\\u62bc\\u8d22\\u4ea7\\u7684\\u5b73\\u606f\\u4f18\\u5148\\u53d7\\u507f\\u3002\\n\\u5f53\\u4e8b\\u4eba\\u53e6\\u6709\\u7ea6\\u5b9a\\u7684\\uff0c\\u4f9d\\u7167\\u5176\\u7ea6\\u5b9a\\u3002\",\n",
      "        0.6590403318405151\n",
      "    ],\n",
      "    [\n",
      "        \"**\\u7b2c\\u56db\\u767e\\u4e09\\u5341\\u516b\\u6761**\\u8d28\\u6743\\u4eba\\u6709\\u6743\\u5bf9\\u8d28\\u62bc\\u8d22\\u4ea7\\u7684\\u5b73\\u606f\\u4f18\\u5148\\u53d7\\u507f\\u3002\\n\\u5f53\\u4e8b\\u4eba\\u53e6\\u6709\\u7ea6\\u5b9a\\u7684\\uff0c\\u4f9d\\u7167\\u5176\\u7ea6\\u5b9a\\u3002\",\n",
      "        0.6590403318405151\n",
      "    ],\n",
      "    [\n",
      "        \"**\\u7b2c\\u56db\\u767e\\u4e8c\\u5341\\u56db\\u6761**\\u62b5\\u62bc\\u6743\\u4eba\\u6709\\u6743\\u5bf9\\u62b5\\u62bc\\u8d22\\u4ea7\\u7684\\u5b73\\u606f\\u4f18\\u5148\\u53d7\\u507f\\u3002\\n\\u5f53\\u4e8b\\u4eba\\u53e6\\u6709\\u7ea6\\u5b9a\\u7684\\uff0c\\u4f9d\\u7167\\u5176\\u7ea6\\u5b9a\\u3002\",\n",
      "        0.6590403318405151\n",
      "    ],\n",
      "    [\n",
      "        \"**\\u7b2c\\u56db\\u767e\\u4e8c\\u5341\\u4e00\\u6761**\\u62b5\\u62bc\\u6743\\u4eba\\u6709\\u6743\\u5bf9\\u62b5\\u62bc\\u8d22\\u4ea7\\u7684\\u5b73\\u606f\\u4f18\\u5148\\u53d7\\u507f\\u3002\\n\\u5f53\\u4e8b\\u4eba\\u53e6\\u6709\\u7ea6\\u5b9a\\u7684\\uff0c\\u4f9d\\u7167\\u5176\\u7ea6\\u5b9a\\u3002\",\n",
      "        0.6590403318405151\n",
      "    ],\n",
      "    [\n",
      "        \"**\\u7b2c\\u56db\\u767e\\u4e00\\u5341\\u56db\\u6761**\\u62b5\\u62bc\\u6743\\u4eba\\u6709\\u6743\\u5bf9\\u62b5\\u62bc\\u8d22\\u4ea7\\u7684\\u5b73\\u606f\\u4f18\\u5148\\u53d7\\u507f\\u3002\\n\\u5f53\\u4e8b\\u4eba\\u53e6\\u6709\\u7ea6\\u5b9a\\u7684\\uff0c\\u4f9d\\u7167\\u5176\\u7ea6\\u5b9a\\u3002\",\n",
      "        0.6590403318405151\n",
      "    ]\n",
      "]\n",
      "**第二百一十五条**不动产登记簿由登记机构管理。\n",
      "不动产登记簿应当采用纸质形式或者电子形式。\n",
      "不动产登记簿采用电子形式的，应当备份。\n",
      "**第四百四十五条**质权人有权对质押财产的孳息优先受偿。\n",
      "当事人另有约定的，依照其约定。\n",
      "**第四百三十八条**质权人有权对质押财产的孳息优先受偿。\n",
      "当事人另有约定的，依照其约定。\n",
      "**第四百二十四条**抵押权人有权对抵押财产的孳息优先受偿。\n",
      "当事人另有约定的，依照其约定。\n",
      "**第四百二十一条**抵押权人有权对抵押财产的孳息优先受偿。\n",
      "当事人另有约定的，依照其约定。\n",
      "**第四百一十四条**抵押权人有权对抵押财产的孳息优先受偿。\n",
      "当事人另有约定的，依照其约定。\n",
      "根据提供的上下文信息，未包含关于\"不动产登记簿记载事项错误时如何处理\"的相关条款。当前上下文主要涉及：\n",
      "1. 不动产登记簿的管理形式（215条）\n",
      "2. 质权人和抵押权人对孳息的优先受偿权（444、438、424、421、414条）\n",
      "\n",
      "建议补充提供关于不动产登记簿错误更正的相关法律条文，以便准确回答该问题。\n"
     ]
    }
   ],
   "source": [
    "from pymilvus import model as milvus_model\n",
    "\n",
    "embedding_model2 = milvus_model.DefaultEmbeddingFunction()\n",
    "\n",
    "from pymilvus import MilvusClient\n",
    "\n",
    "milvus_client2 = MilvusClient(uri=\"./milvus_demo2.db\")\n",
    "\n",
    "collection_name2 = \"my_rag_collection2\"\n",
    "\n",
    "milvus_client2.create_collection(\n",
    "    collection_name=collection_name2,\n",
    "    dimension=768,\n",
    "    metric_type=\"COSINE\",  # 内积距离\n",
    "    consistency_level=\"Strong\",  \n",
    ")\n",
    "\n",
    "# 插入数据\n",
    "from tqdm import tqdm\n",
    "\n",
    "data2 = []\n",
    "\n",
    "doc_embeddings2 = embedding_model2.encode_documents(text_lines2)\n",
    "\n",
    "for i, line in enumerate(tqdm(text_lines2, desc=\"Creating embeddings2\")):\n",
    "    data2.append({\"id\": i, \"vector\": doc_embeddings2[i], \"text\": line})\n",
    "\n",
    "milvus_client2.insert(collection_name=collection_name2, data=data2)\n",
    "\n",
    "question2 = \"权利人、利害关系人认为不动产登记簿记载的事项错误时怎么办？\"\n",
    "\n",
    "search_res2 = milvus_client2.search(\n",
    "    collection_name=collection_name2,\n",
    "    data=embedding_model2.encode_queries(\n",
    "        [question2]\n",
    "    ),  # 将问题转换为嵌入向量\n",
    "    limit=10,  # 返回前3个结果\n",
    "    search_params={\"metric_type\": \"COSINE\", \"params\": {}},  # 内积距离\n",
    "    output_fields=[\"text\"],  # 返回 text 字段\n",
    ")\n",
    "\n",
    "import json\n",
    "\n",
    "retrieved_lines_with_distances2 = [\n",
    "    (res[\"entity\"][\"text\"], res[\"distance\"]) for res in search_res2[0]\n",
    "]\n",
    "print(json.dumps(retrieved_lines_with_distances2, indent=4))\n",
    "\n",
    "context2 = \"\\n\".join(\n",
    "    [line_with_distance[0] for line_with_distance in retrieved_lines_with_distances2]\n",
    ")\n",
    "\n",
    "print(context2)\n",
    "\n",
    "SYSTEM_PROMPT2 = \"\"\"\n",
    "Human: 你是一个 AI 助手。你能够从提供的上下文段落片段中找到问题的答案。\n",
    "\"\"\"\n",
    "USER_PROMPT2 = f\"\"\"\n",
    "请使用以下用 <context> 标签括起来的信息片段来回答用 <question> 标签括起来的问题。\n",
    "<context>\n",
    "{context2}\n",
    "</context>\n",
    "<question>\n",
    "{question2}\n",
    "</question>\n",
    "\"\"\"\n",
    "\n",
    "from openai import OpenAI\n",
    "import os\n",
    "\n",
    "deepseek_client2 = OpenAI(\n",
    "    api_key=os.getenv(\"DEEPSEEK_API_KEY\"),\n",
    "    base_url=\"https://api.deepseek.com/v1\",  # DeepSeek API 的基地址\n",
    ")\n",
    "\n",
    "response2 = deepseek_client2.chat.completions.create(\n",
    "    model=\"deepseek-chat\",\n",
    "    messages=[\n",
    "        {\"role\": \"system\", \"content\": SYSTEM_PROMPT2},\n",
    "        {\"role\": \"user\", \"content\": USER_PROMPT2},\n",
    "    ],\n",
    ")\n",
    "print(response2.choices[0].message.content)"
   ]
  }
 ],
 "metadata": {
  "kernelspec": {
   "display_name": "deepseek",
   "language": "python",
   "name": "python3"
  },
  "language_info": {
   "codemirror_mode": {
    "name": "ipython",
    "version": 3
   },
   "file_extension": ".py",
   "mimetype": "text/x-python",
   "name": "python",
   "nbconvert_exporter": "python",
   "pygments_lexer": "ipython3",
   "version": "3.13.4"
  }
 },
 "nbformat": 4,
 "nbformat_minor": 5
}
